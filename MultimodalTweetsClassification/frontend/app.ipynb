{
 "cells": [
  {
   "cell_type": "code",
   "execution_count": null,
   "id": "1c3491fe",
   "metadata": {},
   "outputs": [
    {
     "name": "stderr",
     "output_type": "stream",
     "text": [
      "2025-08-14 09:39:27.598 \n",
      "  \u001b[33m\u001b[1mWarning:\u001b[0m to view this Streamlit app on a browser, run it with the following\n",
      "  command:\n",
      "\n",
      "    streamlit run e:\\notebooks\\MultimodalTweetsClassification\\venv\\lib\\site-packages\\ipykernel_launcher.py [ARGUMENTS]\n"
     ]
    }
   ],
   "source": [
    "import streamlit as st\n",
    "from transformers import BertTokenizer, BertForSequenceClassification\n",
    "import torch\n",
    "\n",
    "# --- Load model and tokenizer ---\n",
    "model_path = \"e:/notebooks/MultimodalTweetsClassification/bert_model\"\n",
    "tokenizer = BertTokenizer.from_pretrained(model_path)\n",
    "model = BertForSequenceClassification.from_pretrained(model_path)\n",
    "model.eval()\n",
    "\n",
    "# --- Define label names (update if needed) ---\n",
    "label_names = [\n",
    "    'affected_individuals',\n",
    "    'infrastructure_and_utility_damage',\n",
    "    'not_humanitarian',\n",
    "    'other_relevant_information',\n",
    "    'rescue_volunteering_or_donation_effort',\n",
    "    'missing_or_found_persons',\n",
    "    'vehicle_or_property_damage',\n",
    "    'injured_or_deceased_individuals'\n",
    "]\n",
    "\n",
    "# --- Streamlit UI ---\n",
    "st.title(\"Humanitarian Tweet Classifier\")\n",
    "st.write(\"Paste a tweet below to classify its humanitarian category:\")\n",
    "\n",
    "user_input = st.text_area(\"Tweet text\", \"\")\n",
    "\n",
    "if st.button(\"Classify\"):\n",
    "    if user_input.strip() == \"\":\n",
    "        st.warning(\"Please enter some tweet text.\")\n",
    "    else:\n",
    "        # Tokenize and predict\n",
    "        inputs = tokenizer(user_input, return_tensors=\"pt\", truncation=True, padding=True)\n",
    "        with torch.no_grad():\n",
    "            outputs = model(**inputs)\n",
    "            pred = torch.argmax(outputs.logits, dim=1).item()\n",
    "            probs = torch.softmax(outputs.logits, dim=1).squeeze().tolist()\n",
    "        st.success(f\"Prediction: **{label_names[pred]}**\")\n",
    "        st.write(\"Class probabilities:\")\n",
    "        for i, label in enumerate(label_names):\n",
    "            st.write(f\"{label}: {probs[i]:.3f}\")"
   ]
  },
  {
   "cell_type": "code",
   "execution_count": null,
   "id": "91028879",
   "metadata": {},
   "outputs": [],
   "source": []
  }
 ],
 "metadata": {
  "kernelspec": {
   "display_name": "venv",
   "language": "python",
   "name": "python3"
  },
  "language_info": {
   "codemirror_mode": {
    "name": "ipython",
    "version": 3
   },
   "file_extension": ".py",
   "mimetype": "text/x-python",
   "name": "python",
   "nbconvert_exporter": "python",
   "pygments_lexer": "ipython3",
   "version": "3.7.0"
  }
 },
 "nbformat": 4,
 "nbformat_minor": 5
}
