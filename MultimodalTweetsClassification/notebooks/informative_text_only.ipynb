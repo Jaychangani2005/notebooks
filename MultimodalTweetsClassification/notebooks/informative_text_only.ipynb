{
 "cells": [
  {
   "cell_type": "markdown",
   "metadata": {},
   "source": [
    "# Building Unimodal Text Model"
   ]
  },
  {
   "cell_type": "code",
   "execution_count": 1,
   "metadata": {},
   "outputs": [
    {
     "name": "stdout",
     "output_type": "stream",
     "text": [
      "e:\\notebooks\\MultimodalTweetsClassification\n"
     ]
    }
   ],
   "source": [
    "cd .."
   ]
  },
  {
   "cell_type": "code",
   "execution_count": 2,
   "metadata": {},
   "outputs": [],
   "source": [
    "#ensuring that any edits to libraries you make are reloaded here automatically\n",
    "#to ensuere charts or images displayed are shown in this notebook\n",
    "%reload_ext autoreload\n",
    "%autoreload 2\n",
    "%matplotlib inline "
   ]
  },
  {
   "cell_type": "code",
   "execution_count": 3,
   "metadata": {},
   "outputs": [],
   "source": [
    "#importing required modules\n",
    "from exp.Required_Modules_And_Packages import *\n",
    "from exp.Data_Reading_And_Preprocessing import *\n",
    "from exp.Required_Integration_Functionalities_For_Transformer_To_Fastai import *\n",
    "from exp.Required_Functionalities_To_Handal_Multimodal_Dataset import *\n",
    "from exp.Multimodal_Model_With_Intermediate_Or_EmbraceNet_Fusion import *"
   ]
  },
  {
   "cell_type": "code",
   "execution_count": 4,
   "metadata": {},
   "outputs": [],
   "source": [
    "path = Path('/notebooks/MultimodalTweetsClassification')\n",
    "# path.ls()"
   ]
  },
  {
   "cell_type": "code",
   "execution_count": 5,
   "metadata": {},
   "outputs": [],
   "source": [
    "path_img = path/'data_image'"
   ]
  },
  {
   "cell_type": "code",
   "execution_count": 6,
   "metadata": {},
   "outputs": [],
   "source": [
    "# Uncomment the code if dataset and labels are in .tar.gz and .zip format respectively\n",
    "\n",
    "# data = \"CrisisMMD_v2.tar.gz\"\n",
    "# agreed_label = \"crisismmd_datasplit_agreed_label.zip\"\n",
    "# untar_data_and_unzip_label(data,agreed_label)"
   ]
  },
  {
   "cell_type": "code",
   "execution_count": 7,
   "metadata": {},
   "outputs": [
    {
     "name": "stdout",
     "output_type": "stream",
     "text": [
      "reading data and preprocessing it.....\n",
      "done!!\n"
     ]
    }
   ],
   "source": [
    "#reading csv files and doing initial necessary processing\n",
    "data_info_text,test_data_info_text = get_dataframe(*get_tsv_data_files('Informativeness_task_tsv_files'),path)"
   ]
  },
  {
   "cell_type": "code",
   "execution_count": 8,
   "metadata": {},
   "outputs": [
    {
     "name": "stdout",
     "output_type": "stream",
     "text": [
      "shape of data: (15844, 10)\n",
      "\n",
      "train set: 13607\n",
      "valid set: 2237\n",
      "==================================================\n",
      "shape of test data: (2237, 9)\n",
      "\n"
     ]
    }
   ],
   "source": [
    "print(f\"shape of data: {data_info_text.shape}\\n\")\n",
    "print(f\"train set: {data_info_text['is_valid'].value_counts()[0]}\")\n",
    "print(f\"valid set: {data_info_text['is_valid'].value_counts()[1]}\")      \n",
    "print(\"=\"*50)\n",
    "print(f\"shape of test data: {test_data_info_text.shape}\\n\")"
   ]
  },
  {
   "cell_type": "code",
   "execution_count": 9,
   "metadata": {},
   "outputs": [
    {
     "data": {
      "text/html": [
       "<div>\n",
       "<style scoped>\n",
       "    .dataframe tbody tr th:only-of-type {\n",
       "        vertical-align: middle;\n",
       "    }\n",
       "\n",
       "    .dataframe tbody tr th {\n",
       "        vertical-align: top;\n",
       "    }\n",
       "\n",
       "    .dataframe thead th {\n",
       "        text-align: right;\n",
       "    }\n",
       "</style>\n",
       "<table border=\"1\" class=\"dataframe\">\n",
       "  <thead>\n",
       "    <tr style=\"text-align: right;\">\n",
       "      <th></th>\n",
       "      <th>event_name</th>\n",
       "      <th>tweet_id</th>\n",
       "      <th>image_id</th>\n",
       "      <th>tweet_text</th>\n",
       "      <th>image</th>\n",
       "      <th>label</th>\n",
       "      <th>label_text</th>\n",
       "      <th>label_image</th>\n",
       "      <th>label_text_image</th>\n",
       "      <th>is_valid</th>\n",
       "    </tr>\n",
       "  </thead>\n",
       "  <tbody>\n",
       "    <tr>\n",
       "      <th>0</th>\n",
       "      <td>california_wildfires</td>\n",
       "      <td>917791291823591425</td>\n",
       "      <td>917791291823591425_1</td>\n",
       "      <td>pls share were capturing wildfire response rec...</td>\n",
       "      <td>data_image/california_wildfires/10_10_2017/917...</td>\n",
       "      <td>not_informative</td>\n",
       "      <td>informative</td>\n",
       "      <td>not_informative</td>\n",
       "      <td>Negative</td>\n",
       "      <td>False</td>\n",
       "    </tr>\n",
       "    <tr>\n",
       "      <th>1</th>\n",
       "      <td>california_wildfires</td>\n",
       "      <td>917793137925459968</td>\n",
       "      <td>917793137925459968_0</td>\n",
       "      <td>california wildfires destroy more than structu...</td>\n",
       "      <td>data_image/california_wildfires/10_10_2017/917...</td>\n",
       "      <td>informative</td>\n",
       "      <td>informative</td>\n",
       "      <td>informative</td>\n",
       "      <td>Positive</td>\n",
       "      <td>False</td>\n",
       "    </tr>\n",
       "    <tr>\n",
       "      <th>2</th>\n",
       "      <td>california_wildfires</td>\n",
       "      <td>917793137925459968</td>\n",
       "      <td>917793137925459968_1</td>\n",
       "      <td>california wildfires destroy more than structu...</td>\n",
       "      <td>data_image/california_wildfires/10_10_2017/917...</td>\n",
       "      <td>informative</td>\n",
       "      <td>informative</td>\n",
       "      <td>informative</td>\n",
       "      <td>Positive</td>\n",
       "      <td>False</td>\n",
       "    </tr>\n",
       "    <tr>\n",
       "      <th>3</th>\n",
       "      <td>california_wildfires</td>\n",
       "      <td>917793137925459968</td>\n",
       "      <td>917793137925459968_2</td>\n",
       "      <td>california wildfires destroy more than structu...</td>\n",
       "      <td>data_image/california_wildfires/10_10_2017/917...</td>\n",
       "      <td>informative</td>\n",
       "      <td>informative</td>\n",
       "      <td>informative</td>\n",
       "      <td>Positive</td>\n",
       "      <td>False</td>\n",
       "    </tr>\n",
       "    <tr>\n",
       "      <th>4</th>\n",
       "      <td>california_wildfires</td>\n",
       "      <td>917815040962695168</td>\n",
       "      <td>917815040962695168_0</td>\n",
       "      <td>photos of california destructive wildfires via</td>\n",
       "      <td>data_image/california_wildfires/10_10_2017/917...</td>\n",
       "      <td>informative</td>\n",
       "      <td>informative</td>\n",
       "      <td>informative</td>\n",
       "      <td>Positive</td>\n",
       "      <td>False</td>\n",
       "    </tr>\n",
       "  </tbody>\n",
       "</table>\n",
       "</div>"
      ],
      "text/plain": [
       "             event_name            tweet_id              image_id  \\\n",
       "0  california_wildfires  917791291823591425  917791291823591425_1   \n",
       "1  california_wildfires  917793137925459968  917793137925459968_0   \n",
       "2  california_wildfires  917793137925459968  917793137925459968_1   \n",
       "3  california_wildfires  917793137925459968  917793137925459968_2   \n",
       "4  california_wildfires  917815040962695168  917815040962695168_0   \n",
       "\n",
       "                                          tweet_text  \\\n",
       "0  pls share were capturing wildfire response rec...   \n",
       "1  california wildfires destroy more than structu...   \n",
       "2  california wildfires destroy more than structu...   \n",
       "3  california wildfires destroy more than structu...   \n",
       "4     photos of california destructive wildfires via   \n",
       "\n",
       "                                               image            label  \\\n",
       "0  data_image/california_wildfires/10_10_2017/917...  not_informative   \n",
       "1  data_image/california_wildfires/10_10_2017/917...      informative   \n",
       "2  data_image/california_wildfires/10_10_2017/917...      informative   \n",
       "3  data_image/california_wildfires/10_10_2017/917...      informative   \n",
       "4  data_image/california_wildfires/10_10_2017/917...      informative   \n",
       "\n",
       "    label_text      label_image label_text_image  is_valid  \n",
       "0  informative  not_informative         Negative     False  \n",
       "1  informative      informative         Positive     False  \n",
       "2  informative      informative         Positive     False  \n",
       "3  informative      informative         Positive     False  \n",
       "4  informative      informative         Positive     False  "
      ]
     },
     "execution_count": 9,
     "metadata": {},
     "output_type": "execute_result"
    }
   ],
   "source": [
    "data_info_text.head()"
   ]
  },
  {
   "cell_type": "code",
   "execution_count": 10,
   "metadata": {},
   "outputs": [
    {
     "data": {
      "text/html": [
       "<div>\n",
       "<style scoped>\n",
       "    .dataframe tbody tr th:only-of-type {\n",
       "        vertical-align: middle;\n",
       "    }\n",
       "\n",
       "    .dataframe tbody tr th {\n",
       "        vertical-align: top;\n",
       "    }\n",
       "\n",
       "    .dataframe thead th {\n",
       "        text-align: right;\n",
       "    }\n",
       "</style>\n",
       "<table border=\"1\" class=\"dataframe\">\n",
       "  <thead>\n",
       "    <tr style=\"text-align: right;\">\n",
       "      <th></th>\n",
       "      <th>event_name</th>\n",
       "      <th>tweet_id</th>\n",
       "      <th>image_id</th>\n",
       "      <th>tweet_text</th>\n",
       "      <th>image</th>\n",
       "      <th>label</th>\n",
       "      <th>label_text</th>\n",
       "      <th>label_image</th>\n",
       "      <th>label_text_image</th>\n",
       "    </tr>\n",
       "  </thead>\n",
       "  <tbody>\n",
       "    <tr>\n",
       "      <th>0</th>\n",
       "      <td>srilanka_floods</td>\n",
       "      <td>878185882431389696</td>\n",
       "      <td>878185882431389696_0</td>\n",
       "      <td>cristofer clemente mora now in nd at aguille d...</td>\n",
       "      <td>data_image/srilanka_floods/23_6_2017/878185882...</td>\n",
       "      <td>not_informative</td>\n",
       "      <td>not_informative</td>\n",
       "      <td>not_informative</td>\n",
       "      <td>Positive</td>\n",
       "    </tr>\n",
       "    <tr>\n",
       "      <th>1</th>\n",
       "      <td>hurricane_harvey</td>\n",
       "      <td>906258753707790336</td>\n",
       "      <td>906258753707790336_0</td>\n",
       "      <td>on our way to warrior restoration to help orga...</td>\n",
       "      <td>data_image/hurricane_harvey/8_9_2017/906258753...</td>\n",
       "      <td>not_informative</td>\n",
       "      <td>informative</td>\n",
       "      <td>not_informative</td>\n",
       "      <td>Negative</td>\n",
       "    </tr>\n",
       "    <tr>\n",
       "      <th>2</th>\n",
       "      <td>hurricane_maria</td>\n",
       "      <td>910542719864397824</td>\n",
       "      <td>910542719864397824_0</td>\n",
       "      <td>hurricane maria batters puerto rico as cat mon...</td>\n",
       "      <td>data_image/hurricane_maria/20_9_2017/910542719...</td>\n",
       "      <td>informative</td>\n",
       "      <td>informative</td>\n",
       "      <td>informative</td>\n",
       "      <td>Positive</td>\n",
       "    </tr>\n",
       "    <tr>\n",
       "      <th>3</th>\n",
       "      <td>hurricane_harvey</td>\n",
       "      <td>906219963152785408</td>\n",
       "      <td>906219963152785408_0</td>\n",
       "      <td>zz top donating  la grange  download sales to ...</td>\n",
       "      <td>data_image/hurricane_harvey/8_9_2017/906219963...</td>\n",
       "      <td>informative</td>\n",
       "      <td>informative</td>\n",
       "      <td>not_informative</td>\n",
       "      <td>Negative</td>\n",
       "    </tr>\n",
       "    <tr>\n",
       "      <th>4</th>\n",
       "      <td>hurricane_maria</td>\n",
       "      <td>913009824195104768</td>\n",
       "      <td>913009824195104768_0</td>\n",
       "      <td>am maria update holding steady as strong tropi...</td>\n",
       "      <td>data_image/hurricane_maria/27_9_2017/913009824...</td>\n",
       "      <td>informative</td>\n",
       "      <td>informative</td>\n",
       "      <td>informative</td>\n",
       "      <td>Positive</td>\n",
       "    </tr>\n",
       "  </tbody>\n",
       "</table>\n",
       "</div>"
      ],
      "text/plain": [
       "         event_name            tweet_id              image_id  \\\n",
       "0   srilanka_floods  878185882431389696  878185882431389696_0   \n",
       "1  hurricane_harvey  906258753707790336  906258753707790336_0   \n",
       "2   hurricane_maria  910542719864397824  910542719864397824_0   \n",
       "3  hurricane_harvey  906219963152785408  906219963152785408_0   \n",
       "4   hurricane_maria  913009824195104768  913009824195104768_0   \n",
       "\n",
       "                                          tweet_text  \\\n",
       "0  cristofer clemente mora now in nd at aguille d...   \n",
       "1  on our way to warrior restoration to help orga...   \n",
       "2  hurricane maria batters puerto rico as cat mon...   \n",
       "3  zz top donating  la grange  download sales to ...   \n",
       "4  am maria update holding steady as strong tropi...   \n",
       "\n",
       "                                               image            label  \\\n",
       "0  data_image/srilanka_floods/23_6_2017/878185882...  not_informative   \n",
       "1  data_image/hurricane_harvey/8_9_2017/906258753...  not_informative   \n",
       "2  data_image/hurricane_maria/20_9_2017/910542719...      informative   \n",
       "3  data_image/hurricane_harvey/8_9_2017/906219963...      informative   \n",
       "4  data_image/hurricane_maria/27_9_2017/913009824...      informative   \n",
       "\n",
       "        label_text      label_image label_text_image  \n",
       "0  not_informative  not_informative         Positive  \n",
       "1      informative  not_informative         Negative  \n",
       "2      informative      informative         Positive  \n",
       "3      informative  not_informative         Negative  \n",
       "4      informative      informative         Positive  "
      ]
     },
     "execution_count": 10,
     "metadata": {},
     "output_type": "execute_result"
    }
   ],
   "source": [
    "test_data_info_text.head()"
   ]
  },
  {
   "cell_type": "code",
   "execution_count": 11,
   "metadata": {},
   "outputs": [
    {
     "data": {
      "text/plain": [
       "'pls share were capturing wildfire response recovery info here'"
      ]
     },
     "execution_count": 11,
     "metadata": {},
     "output_type": "execute_result"
    }
   ],
   "source": [
    "data_info_text['tweet_text'][0]"
   ]
  },
  {
   "cell_type": "code",
   "execution_count": 12,
   "metadata": {},
   "outputs": [
    {
     "data": {
      "text/html": [
       "\n",
       "<style>\n",
       "    /* Turns off some styling */\n",
       "    progress {\n",
       "        /* gets rid of default border in Firefox and Opera. */\n",
       "        border: none;\n",
       "        /* Needs to be in here for Safari polyfill so background images work as expected. */\n",
       "        background-size: auto;\n",
       "    }\n",
       "    progress:not([value]), progress:not([value])::-webkit-progress-bar {\n",
       "        background: repeating-linear-gradient(45deg, #7e7e7e, #7e7e7e 10px, #5c5c5c 10px, #5c5c5c 20px);\n",
       "    }\n",
       "    .progress-bar-interrupted, .progress-bar-interrupted::-webkit-progress-bar {\n",
       "        background: #F44336;\n",
       "    }\n",
       "</style>\n"
      ],
      "text/plain": [
       "<IPython.core.display.HTML object>"
      ]
     },
     "metadata": {},
     "output_type": "display_data"
    },
    {
     "data": {
      "text/html": [],
      "text/plain": [
       "<IPython.core.display.HTML object>"
      ]
     },
     "metadata": {},
     "output_type": "display_data"
    },
    {
     "data": {
      "text/html": [
       "\n",
       "<style>\n",
       "    /* Turns off some styling */\n",
       "    progress {\n",
       "        /* gets rid of default border in Firefox and Opera. */\n",
       "        border: none;\n",
       "        /* Needs to be in here for Safari polyfill so background images work as expected. */\n",
       "        background-size: auto;\n",
       "    }\n",
       "    progress:not([value]), progress:not([value])::-webkit-progress-bar {\n",
       "        background: repeating-linear-gradient(45deg, #7e7e7e, #7e7e7e 10px, #5c5c5c 10px, #5c5c5c 20px);\n",
       "    }\n",
       "    .progress-bar-interrupted, .progress-bar-interrupted::-webkit-progress-bar {\n",
       "        background: #F44336;\n",
       "    }\n",
       "</style>\n"
      ],
      "text/plain": [
       "<IPython.core.display.HTML object>"
      ]
     },
     "metadata": {},
     "output_type": "display_data"
    },
    {
     "data": {
      "text/html": [],
      "text/plain": [
       "<IPython.core.display.HTML object>"
      ]
     },
     "metadata": {},
     "output_type": "display_data"
    }
   ],
   "source": [
    "# preparing data for language model to get encoder and word embedding vocab for text classification model\n",
    "data_lm = get_text_data_for_language_model(data_info_text,path)"
   ]
  },
  {
   "cell_type": "code",
   "execution_count": 13,
   "metadata": {},
   "outputs": [
    {
     "data": {
      "text/plain": [
       "TextLMDataBunch;\n",
       "\n",
       "Train: LabelList (13607 items)\n",
       "x: LMTextList\n",
       "xxbos pls share were xxunk wildfire response recovery info here,xxbos california wildfires destroy more than structures kakenews,xxbos california wildfires destroy more than structures kakenews,xxbos california wildfires destroy more than structures kakenews,xxbos photos of california destructive wildfires via\n",
       "y: LMLabelList\n",
       ",,,,\n",
       "Path: \\notebooks\\MultimodalTweetsClassification;\n",
       "\n",
       "Valid: LabelList (2237 items)\n",
       "x: LMTextList\n",
       "xxbos iran earthquake damage put at over bn pounds international,xxbos we ve lost track of how many xxunk teams have helped so proud of our church harvey,xxbos the gym above xxunk got destroyed the xxunk wall got blown out hurricanemaria,xxbos famous xxunk xxunk xxunk for xxunk in florida keys during irma,xxbos californias xxunk fire in xxunk captured in pictures and videos xxunk\n",
       "y: LMLabelList\n",
       ",,,,\n",
       "Path: \\notebooks\\MultimodalTweetsClassification;\n",
       "\n",
       "Test: None"
      ]
     },
     "execution_count": 13,
     "metadata": {},
     "output_type": "execute_result"
    }
   ],
   "source": [
    "data_lm"
   ]
  },
  {
   "cell_type": "code",
   "execution_count": 14,
   "metadata": {},
   "outputs": [
    {
     "data": {
      "text/html": [
       "<table border=\"1\" class=\"dataframe\">\n",
       "  <thead>\n",
       "    <tr style=\"text-align: right;\">\n",
       "      <th>idx</th>\n",
       "      <th>text</th>\n",
       "    </tr>\n",
       "  </thead>\n",
       "  <tbody>\n",
       "    <tr>\n",
       "      <td>0</td>\n",
       "      <td>in the fall xxbos why california wildfires are worse in the fall xxbos playing with my new friend chai she california fire evacuee starting with us for few days her xxbos playing with my new friend chai she california fire evacuee starting with us for few days her xxbos playing with my new friend chai she california fire evacuee starting with us for few days her xxbos playing with my</td>\n",
       "    </tr>\n",
       "    <tr>\n",
       "      <td>1</td>\n",
       "      <td>across teknaf xxbos mora staff sending off their xxunk thank you for all of your service to our students moraschools xxbos mora staff sending off their xxunk thank you for all of your service to our students moraschools xxbos cleaning wells in flood affected areas of praduwa southern province srilanka xxbos cleaning wells in flood affected areas of praduwa southern province srilanka xxbos cleaning wells in flood affected areas of</td>\n",
       "    </tr>\n",
       "    <tr>\n",
       "      <td>2</td>\n",
       "      <td>simar ka his character and mora a a a a xxbos mabel mora says see you soon to seven years full of nice moments thank you very much mabel xxbos mabel mora says see you soon to seven years full of nice moments thank you very much mabel xxbos mabel mora says see you soon to seven years full of nice moments thank you very much mabel xxbos mora lakin</td>\n",
       "    </tr>\n",
       "    <tr>\n",
       "      <td>3</td>\n",
       "      <td>mexico about earthquake more explantion on my blog painting artoftheday mexique xxbos mexico about earthquake more explantion on my blog painting artoftheday mexique xxbos mexico about earthquake more explantion on my blog painting artoftheday mexique xxbos mexico about earthquake more explantion on my blog painting artoftheday mexique xxbos please help support and share lasvegasshooting mexicoearthquake puertoricoselevanta xxbos please help support and share lasvegasshooting mexicoearthquake puertoricoselevanta xxbos please help support and</td>\n",
       "    </tr>\n",
       "    <tr>\n",
       "      <td>4</td>\n",
       "      <td>posted in the wrong chat dead harvey xxunk xxunk xxbos currently stuck on monroe my truck hurricaneharvey xxbos currently stuck on monroe my truck hurricaneharvey xxbos hurricaneharvey almost up to my door xxbos hurricaneharvey almost up to my door xxbos hurricaneharvey almost up to my door xxbos hurricaneharvey almost up to my door xxbos really thought ciara story was gon be something about hurricane harvey but it was really just</td>\n",
       "    </tr>\n",
       "  </tbody>\n",
       "</table>"
      ],
      "text/plain": [
       "<IPython.core.display.HTML object>"
      ]
     },
     "metadata": {},
     "output_type": "display_data"
    }
   ],
   "source": [
    "# showing the data with corresponding annotations\n",
    "data_lm.show_batch()"
   ]
  },
  {
   "cell_type": "code",
   "execution_count": null,
   "metadata": {},
   "outputs": [],
   "source": [
    "# Creates a fastai DataBunch for language modeling (unsupervised), using all available text.\n",
    "\n",
    "\n",
    "# importing pretrained AWD_LSTM model and making learner object consist of data,model for training\n",
    "learn_lm = language_model_learner(data_lm, AWD_LSTM, drop_mult=0.3)"
   ]
  },
  {
   "cell_type": "markdown",
   "metadata": {},
   "source": [
    "<b>learn_lm.lr_find() </b>\n",
    "is used to automatically find a good learning rate for your model in Fastai.\n",
    "\n",
    "Runs a short training run where the learning rate increases exponentially.\n",
    "Records the loss at each step. Helps you visually identify the learning rate range where the model starts learning effectively without diverging."
   ]
  },
  {
   "cell_type": "code",
   "execution_count": 16,
   "metadata": {},
   "outputs": [
    {
     "data": {
      "text/html": [
       "\n",
       "<style>\n",
       "    /* Turns off some styling */\n",
       "    progress {\n",
       "        /* gets rid of default border in Firefox and Opera. */\n",
       "        border: none;\n",
       "        /* Needs to be in here for Safari polyfill so background images work as expected. */\n",
       "        background-size: auto;\n",
       "    }\n",
       "    progress:not([value]), progress:not([value])::-webkit-progress-bar {\n",
       "        background: repeating-linear-gradient(45deg, #7e7e7e, #7e7e7e 10px, #5c5c5c 10px, #5c5c5c 20px);\n",
       "    }\n",
       "    .progress-bar-interrupted, .progress-bar-interrupted::-webkit-progress-bar {\n",
       "        background: #F44336;\n",
       "    }\n",
       "</style>\n"
      ],
      "text/plain": [
       "<IPython.core.display.HTML object>"
      ]
     },
     "metadata": {},
     "output_type": "display_data"
    },
    {
     "data": {
      "text/html": [
       "\n",
       "    <div>\n",
       "      <progress value='2' class='' max='3' style='width:300px; height:20px; vertical-align: middle;'></progress>\n",
       "      66.67% [2/3 08:24&lt;04:12]\n",
       "    </div>\n",
       "    \n",
       "<table border=\"1\" class=\"dataframe\">\n",
       "  <thead>\n",
       "    <tr style=\"text-align: left;\">\n",
       "      <th>epoch</th>\n",
       "      <th>train_loss</th>\n",
       "      <th>valid_loss</th>\n",
       "      <th>accuracy</th>\n",
       "      <th>time</th>\n",
       "    </tr>\n",
       "  </thead>\n",
       "  <tbody>\n",
       "    <tr>\n",
       "      <td>0</td>\n",
       "      <td>7.855311</td>\n",
       "      <td>#na#</td>\n",
       "      <td>04:04</td>\n",
       "    </tr>\n",
       "    <tr>\n",
       "      <td>1</td>\n",
       "      <td>7.126792</td>\n",
       "      <td>#na#</td>\n",
       "      <td>04:19</td>\n",
       "    </tr>\n",
       "  </tbody>\n",
       "</table><p>\n",
       "\n",
       "    <div>\n",
       "      <progress value='23' class='' max='38' style='width:300px; height:20px; vertical-align: middle;'></progress>\n",
       "      60.53% [23/38 02:37&lt;01:43 10.4158]\n",
       "    </div>\n",
       "    "
      ],
      "text/plain": [
       "<IPython.core.display.HTML object>"
      ]
     },
     "metadata": {},
     "output_type": "display_data"
    },
    {
     "name": "stdout",
     "output_type": "stream",
     "text": [
      "LR Finder is complete, type {learner_name}.recorder.plot() to see the graph.\n"
     ]
    }
   ],
   "source": [
    "learn_lm.lr_find()"
   ]
  },
  {
   "cell_type": "code",
   "execution_count": 17,
   "metadata": {},
   "outputs": [
    {
     "data": {
      "image/png": "[encoded data removed]",
      "text/plain": [
       "<Figure size 640x480 with 1 Axes>"
      ]
     },
     "metadata": {},
     "output_type": "display_data"
    }
   ],
   "source": [
    "learn_lm.recorder.plot(skip_end=15)"
   ]
  },
  {
   "cell_type": "markdown",
   "metadata": {},
   "source": [
    "Especially useful for fine-tuning a pretrained language model on your own dataset.\n"
   ]
  },
  {
   "cell_type": "code",
   "execution_count": 18,
   "metadata": {},
   "outputs": [
    {
     "data": {
      "text/html": [
       "\n",
       "<style>\n",
       "    /* Turns off some styling */\n",
       "    progress {\n",
       "        /* gets rid of default border in Firefox and Opera. */\n",
       "        border: none;\n",
       "        /* Needs to be in here for Safari polyfill so background images work as expected. */\n",
       "        background-size: auto;\n",
       "    }\n",
       "    progress:not([value]), progress:not([value])::-webkit-progress-bar {\n",
       "        background: repeating-linear-gradient(45deg, #7e7e7e, #7e7e7e 10px, #5c5c5c 10px, #5c5c5c 20px);\n",
       "    }\n",
       "    .progress-bar-interrupted, .progress-bar-interrupted::-webkit-progress-bar {\n",
       "        background: #F44336;\n",
       "    }\n",
       "</style>\n"
      ],
      "text/plain": [
       "<IPython.core.display.HTML object>"
      ]
     },
     "metadata": {},
     "output_type": "display_data"
    },
    {
     "data": {
      "text/html": [
       "<table border=\"1\" class=\"dataframe\">\n",
       "  <thead>\n",
       "    <tr style=\"text-align: left;\">\n",
       "      <th>epoch</th>\n",
       "      <th>train_loss</th>\n",
       "      <th>valid_loss</th>\n",
       "      <th>accuracy</th>\n",
       "      <th>time</th>\n",
       "    </tr>\n",
       "  </thead>\n",
       "  <tbody>\n",
       "    <tr>\n",
       "      <td>0</td>\n",
       "      <td>5.690371</td>\n",
       "      <td>4.977901</td>\n",
       "      <td>0.222640</td>\n",
       "      <td>04:36</td>\n",
       "    </tr>\n",
       "    <tr>\n",
       "      <td>1</td>\n",
       "      <td>4.735522</td>\n",
       "      <td>4.865738</td>\n",
       "      <td>0.231952</td>\n",
       "      <td>04:22</td>\n",
       "    </tr>\n",
       "  </tbody>\n",
       "</table>"
      ],
      "text/plain": [
       "<IPython.core.display.HTML object>"
      ]
     },
     "metadata": {},
     "output_type": "display_data"
    }
   ],
   "source": [
    "# training the top layer's while keeping bottom layer's in freeze state\n",
    "learn_lm.fit_one_cycle(2,5e-2,moms=(0.8,0.7))"
   ]
  },
  {
   "cell_type": "markdown",
   "metadata": {},
   "source": [
    "Unfreezes all layers of the language model for further fine-tuning.\n",
    "\n"
   ]
  },
  {
   "cell_type": "code",
   "execution_count": 19,
   "metadata": {},
   "outputs": [],
   "source": [
    "learn_lm.unfreeze()"
   ]
  },
  {
   "cell_type": "markdown",
   "metadata": {},
   "source": [
    "All layers are trainable because you previously called learn_lm.unfreeze().\n",
    "\n"
   ]
  },
  {
   "cell_type": "code",
   "execution_count": 20,
   "metadata": {},
   "outputs": [
    {
     "data": {
      "text/html": [
       "\n",
       "<style>\n",
       "    /* Turns off some styling */\n",
       "    progress {\n",
       "        /* gets rid of default border in Firefox and Opera. */\n",
       "        border: none;\n",
       "        /* Needs to be in here for Safari polyfill so background images work as expected. */\n",
       "        background-size: auto;\n",
       "    }\n",
       "    progress:not([value]), progress:not([value])::-webkit-progress-bar {\n",
       "        background: repeating-linear-gradient(45deg, #7e7e7e, #7e7e7e 10px, #5c5c5c 10px, #5c5c5c 20px);\n",
       "    }\n",
       "    .progress-bar-interrupted, .progress-bar-interrupted::-webkit-progress-bar {\n",
       "        background: #F44336;\n",
       "    }\n",
       "</style>\n"
      ],
      "text/plain": [
       "<IPython.core.display.HTML object>"
      ]
     },
     "metadata": {},
     "output_type": "display_data"
    },
    {
     "data": {
      "text/html": [
       "<table border=\"1\" class=\"dataframe\">\n",
       "  <thead>\n",
       "    <tr style=\"text-align: left;\">\n",
       "      <th>epoch</th>\n",
       "      <th>train_loss</th>\n",
       "      <th>valid_loss</th>\n",
       "      <th>accuracy</th>\n",
       "      <th>time</th>\n",
       "    </tr>\n",
       "  </thead>\n",
       "  <tbody>\n",
       "    <tr>\n",
       "      <td>0</td>\n",
       "      <td>4.795512</td>\n",
       "      <td>4.844254</td>\n",
       "      <td>0.235778</td>\n",
       "      <td>05:22</td>\n",
       "    </tr>\n",
       "  </tbody>\n",
       "</table>"
      ],
      "text/plain": [
       "<IPython.core.display.HTML object>"
      ]
     },
     "metadata": {},
     "output_type": "display_data"
    }
   ],
   "source": [
    "learn_lm.fit_one_cycle(1, 3e-2, moms=(0.8,0.7))"
   ]
  },
  {
   "cell_type": "code",
   "execution_count": 21,
   "metadata": {},
   "outputs": [],
   "source": [
    "# saving encoder for using it in classification model\n",
    "learn_lm.save_encoder('fine_tuned_enc_info')"
   ]
  },
  {
   "cell_type": "code",
   "execution_count": 22,
   "metadata": {},
   "outputs": [
    {
     "data": {
      "text/html": [
       "\n",
       "<style>\n",
       "    /* Turns off some styling */\n",
       "    progress {\n",
       "        /* gets rid of default border in Firefox and Opera. */\n",
       "        border: none;\n",
       "        /* Needs to be in here for Safari polyfill so background images work as expected. */\n",
       "        background-size: auto;\n",
       "    }\n",
       "    progress:not([value]), progress:not([value])::-webkit-progress-bar {\n",
       "        background: repeating-linear-gradient(45deg, #7e7e7e, #7e7e7e 10px, #5c5c5c 10px, #5c5c5c 20px);\n",
       "    }\n",
       "    .progress-bar-interrupted, .progress-bar-interrupted::-webkit-progress-bar {\n",
       "        background: #F44336;\n",
       "    }\n",
       "</style>\n"
      ],
      "text/plain": [
       "<IPython.core.display.HTML object>"
      ]
     },
     "metadata": {},
     "output_type": "display_data"
    },
    {
     "data": {
      "text/html": [],
      "text/plain": [
       "<IPython.core.display.HTML object>"
      ]
     },
     "metadata": {},
     "output_type": "display_data"
    },
    {
     "data": {
      "text/html": [
       "\n",
       "<style>\n",
       "    /* Turns off some styling */\n",
       "    progress {\n",
       "        /* gets rid of default border in Firefox and Opera. */\n",
       "        border: none;\n",
       "        /* Needs to be in here for Safari polyfill so background images work as expected. */\n",
       "        background-size: auto;\n",
       "    }\n",
       "    progress:not([value]), progress:not([value])::-webkit-progress-bar {\n",
       "        background: repeating-linear-gradient(45deg, #7e7e7e, #7e7e7e 10px, #5c5c5c 10px, #5c5c5c 20px);\n",
       "    }\n",
       "    .progress-bar-interrupted, .progress-bar-interrupted::-webkit-progress-bar {\n",
       "        background: #F44336;\n",
       "    }\n",
       "</style>\n"
      ],
      "text/plain": [
       "<IPython.core.display.HTML object>"
      ]
     },
     "metadata": {},
     "output_type": "display_data"
    },
    {
     "data": {
      "text/html": [],
      "text/plain": [
       "<IPython.core.display.HTML object>"
      ]
     },
     "metadata": {},
     "output_type": "display_data"
    },
    {
     "data": {
      "text/html": [
       "\n",
       "<style>\n",
       "    /* Turns off some styling */\n",
       "    progress {\n",
       "        /* gets rid of default border in Firefox and Opera. */\n",
       "        border: none;\n",
       "        /* Needs to be in here for Safari polyfill so background images work as expected. */\n",
       "        background-size: auto;\n",
       "    }\n",
       "    progress:not([value]), progress:not([value])::-webkit-progress-bar {\n",
       "        background: repeating-linear-gradient(45deg, #7e7e7e, #7e7e7e 10px, #5c5c5c 10px, #5c5c5c 20px);\n",
       "    }\n",
       "    .progress-bar-interrupted, .progress-bar-interrupted::-webkit-progress-bar {\n",
       "        background: #F44336;\n",
       "    }\n",
       "</style>\n"
      ],
      "text/plain": [
       "<IPython.core.display.HTML object>"
      ]
     },
     "metadata": {},
     "output_type": "display_data"
    },
    {
     "data": {
      "text/html": [],
      "text/plain": [
       "<IPython.core.display.HTML object>"
      ]
     },
     "metadata": {},
     "output_type": "display_data"
    },
    {
     "data": {
      "text/html": [
       "\n",
       "<style>\n",
       "    /* Turns off some styling */\n",
       "    progress {\n",
       "        /* gets rid of default border in Firefox and Opera. */\n",
       "        border: none;\n",
       "        /* Needs to be in here for Safari polyfill so background images work as expected. */\n",
       "        background-size: auto;\n",
       "    }\n",
       "    progress:not([value]), progress:not([value])::-webkit-progress-bar {\n",
       "        background: repeating-linear-gradient(45deg, #7e7e7e, #7e7e7e 10px, #5c5c5c 10px, #5c5c5c 20px);\n",
       "    }\n",
       "    .progress-bar-interrupted, .progress-bar-interrupted::-webkit-progress-bar {\n",
       "        background: #F44336;\n",
       "    }\n",
       "</style>\n"
      ],
      "text/plain": [
       "<IPython.core.display.HTML object>"
      ]
     },
     "metadata": {},
     "output_type": "display_data"
    },
    {
     "data": {
      "text/html": [],
      "text/plain": [
       "<IPython.core.display.HTML object>"
      ]
     },
     "metadata": {},
     "output_type": "display_data"
    }
   ],
   "source": [
    "# preprocessing and creating text databunch object for data(train and dev split) and test data(test split)\n",
    "data_clas = get_text_data(data_info_text,path,vocab=data_lm.vocab)\n",
    "test_data_clas = get_test_text_data(test_data_info_text,path,vocab=data_lm.vocab)"
   ]
  },
  {
   "cell_type": "code",
   "execution_count": 23,
   "metadata": {},
   "outputs": [
    {
     "data": {
      "text/html": [
       "\n",
       "<style>\n",
       "    /* Turns off some styling */\n",
       "    progress {\n",
       "        /* gets rid of default border in Firefox and Opera. */\n",
       "        border: none;\n",
       "        /* Needs to be in here for Safari polyfill so background images work as expected. */\n",
       "        background-size: auto;\n",
       "    }\n",
       "    progress:not([value]), progress:not([value])::-webkit-progress-bar {\n",
       "        background: repeating-linear-gradient(45deg, #7e7e7e, #7e7e7e 10px, #5c5c5c 10px, #5c5c5c 20px);\n",
       "    }\n",
       "    .progress-bar-interrupted, .progress-bar-interrupted::-webkit-progress-bar {\n",
       "        background: #F44336;\n",
       "    }\n",
       "</style>\n"
      ],
      "text/plain": [
       "<IPython.core.display.HTML object>"
      ]
     },
     "metadata": {},
     "output_type": "display_data"
    },
    {
     "data": {
      "text/html": [],
      "text/plain": [
       "<IPython.core.display.HTML object>"
      ]
     },
     "metadata": {},
     "output_type": "display_data"
    }
   ],
   "source": [
    "# making single databunch object of data and test data\n",
    "data_clas.add_test(test_data_clas.train_ds)\n",
    "data_clas.test_ds.y = test_data_clas.train_ds.y"
   ]
  },
  {
   "cell_type": "code",
   "execution_count": 24,
   "metadata": {},
   "outputs": [
    {
     "data": {
      "text/plain": [
       "TextClasDataBunch;\n",
       "\n",
       "Train: LabelList (13607 items)\n",
       "x: TextList\n",
       "xxbos pls share were xxunk wildfire response recovery info here,xxbos california wildfires destroy more than structures kakenews,xxbos california wildfires destroy more than structures kakenews,xxbos california wildfires destroy more than structures kakenews,xxbos photos of california destructive wildfires via\n",
       "y: CategoryList\n",
       "informative,informative,informative,informative,informative\n",
       "Path: \\notebooks\\MultimodalTweetsClassification;\n",
       "\n",
       "Valid: LabelList (2237 items)\n",
       "x: TextList\n",
       "xxbos iran earthquake damage put at over bn pounds international,xxbos we ve lost track of how many xxunk teams have helped so proud of our church harvey,xxbos the gym above xxunk got destroyed the xxunk wall got blown out hurricanemaria,xxbos famous xxunk xxunk xxunk for xxunk in florida keys during irma,xxbos californias xxunk fire in xxunk captured in pictures and videos xxunk\n",
       "y: CategoryList\n",
       "informative,informative,informative,informative,informative\n",
       "Path: \\notebooks\\MultimodalTweetsClassification;\n",
       "\n",
       "Test: LabelList (2237 items)\n",
       "x: TextList\n",
       "xxbos xxbos xxunk xxunk mora now in nd at xxunk xxunk xxunk he xxunk xxunk xxunk,xxbos xxbos on our way to xxunk restoration to help organize donations for hurricaneharvey xxunk,xxbos xxbos hurricane maria batters puerto rico as cat monitoring the track as it nears the xxunk us next week xxunk,xxbos xxbos xxunk top donating la xxunk download sales to hurricane harvey relief via xxunk xxunk,xxbos xxbos am maria update holding steady as strong tropical storm offshore of eastern nc foxatl xxunk\n",
       "y: CategoryList\n",
       "not_informative,informative,informative,informative,informative\n",
       "Path: \\notebooks\\MultimodalTweetsClassification"
      ]
     },
     "execution_count": 24,
     "metadata": {},
     "output_type": "execute_result"
    }
   ],
   "source": [
    "data_clas"
   ]
  },
  {
   "cell_type": "code",
   "execution_count": 25,
   "metadata": {},
   "outputs": [
    {
     "data": {
      "text/html": [
       "<table border=\"1\" class=\"dataframe\">\n",
       "  <thead>\n",
       "    <tr style=\"text-align: right;\">\n",
       "      <th>text</th>\n",
       "      <th>target</th>\n",
       "    </tr>\n",
       "  </thead>\n",
       "  <tbody>\n",
       "    <tr>\n",
       "      <td>xxbos ya ll be sure to get in on this week xxunk ve got to know what you think you know in case need to know</td>\n",
       "      <td>not_informative</td>\n",
       "    </tr>\n",
       "    <tr>\n",
       "      <td>xxbos me seeing that bunch of xxunk fans are going to virginia to see xxunk fisher while i m stuck in fucking puerto rico</td>\n",
       "      <td>not_informative</td>\n",
       "    </tr>\n",
       "    <tr>\n",
       "      <td>xxbos we did the mickey not so scary halloween at magic kingdom last night it was fun after irma we needed to do so</td>\n",
       "      <td>not_informative</td>\n",
       "    </tr>\n",
       "    <tr>\n",
       "      <td>xxbos new day new week quick look back at lot of hard work by the dedicated team at cbs miami crash course in team</td>\n",
       "      <td>not_informative</td>\n",
       "    </tr>\n",
       "    <tr>\n",
       "      <td>xxbos xxunk north carolina at this pier in light of harvey and irma the country is xxunk what jose is doing to t</td>\n",
       "      <td>informative</td>\n",
       "    </tr>\n",
       "  </tbody>\n",
       "</table>"
      ],
      "text/plain": [
       "<IPython.core.display.HTML object>"
      ]
     },
     "metadata": {},
     "output_type": "display_data"
    }
   ],
   "source": [
    "# showing data with labels\n",
    "data_clas.show_batch()"
   ]
  },
  {
   "cell_type": "markdown",
   "metadata": {},
   "source": [
    "drop_mult=0.5 → A good regularization setting (adjustable if overfitting).\n",
    "\n",
    "Using both macro and weighted versions of Precision, Recall, and FBeta gives a thorough evaluation of model performance, especially on imbalanced datasets.\n",
    "\n",
    "EarlyStoppingCallback and ReduceLROnPlateauCallback together:\n",
    "\n",
    "Prevent overfitting.\n",
    "\n",
    "Adapt learning rate when improvement stalls.\n",
    "\n",
    "ShowGraph → Visual feedback during training.\n",
    "\n"
   ]
  },
  {
   "cell_type": "code",
   "execution_count": 26,
   "metadata": {},
   "outputs": [],
   "source": [
    "# importing pretrained AWD-LSTM model and making learner object consist of data,model,metrics and callbacks for training\n",
    "learn_clas = text_classifier_learner(data_clas, AWD_LSTM, drop_mult=0.5,metrics=[accuracy,Precision(average='macro'),\n",
    "                Precision(average='weighted'),Recall(average='macro'),Recall(average='weighted'),\n",
    "               FBeta(average='macro',beta=1.),FBeta(average='weighted',beta=1.)],\n",
    "            callback_fns=[ShowGraph,partial(EarlyStoppingCallback, monitor='valid_loss', min_delta=0.01, patience=3),\n",
    "               partial(ReduceLROnPlateauCallback,monitor='valid_loss', mode='auto', patience=0,\n",
    "                       factor=0.2, min_delta=0, min_lr=0.000001)]  \n",
    "            )"
   ]
  },
  {
   "cell_type": "markdown",
   "metadata": {},
   "source": [
    "it loads the encoder (the pretrained + fine-tuned part of your AWD-LSTM language model) into your text classification model (learn_clas)."
   ]
  },
  {
   "cell_type": "code",
   "execution_count": 27,
   "metadata": {},
   "outputs": [
    {
     "data": {
      "text/plain": [
       "RNNLearner(data=TextClasDataBunch;\n",
       "\n",
       "Train: LabelList (13607 items)\n",
       "x: TextList\n",
       "xxbos pls share were xxunk wildfire response recovery info here,xxbos california wildfires destroy more than structures kakenews,xxbos california wildfires destroy more than structures kakenews,xxbos california wildfires destroy more than structures kakenews,xxbos photos of california destructive wildfires via\n",
       "y: CategoryList\n",
       "informative,informative,informative,informative,informative\n",
       "Path: \\notebooks\\MultimodalTweetsClassification;\n",
       "\n",
       "Valid: LabelList (2237 items)\n",
       "x: TextList\n",
       "xxbos iran earthquake damage put at over bn pounds international,xxbos we ve lost track of how many xxunk teams have helped so proud of our church harvey,xxbos the gym above xxunk got destroyed the xxunk wall got blown out hurricanemaria,xxbos famous xxunk xxunk xxunk for xxunk in florida keys during irma,xxbos californias xxunk fire in xxunk captured in pictures and videos xxunk\n",
       "y: CategoryList\n",
       "informative,informative,informative,informative,informative\n",
       "Path: \\notebooks\\MultimodalTweetsClassification;\n",
       "\n",
       "Test: LabelList (2237 items)\n",
       "x: TextList\n",
       "xxbos xxbos xxunk xxunk mora now in nd at xxunk xxunk xxunk he xxunk xxunk xxunk,xxbos xxbos on our way to xxunk restoration to help organize donations for hurricaneharvey xxunk,xxbos xxbos hurricane maria batters puerto rico as cat monitoring the track as it nears the xxunk us next week xxunk,xxbos xxbos xxunk top donating la xxunk download sales to hurricane harvey relief via xxunk xxunk,xxbos xxbos am maria update holding steady as strong tropical storm offshore of eastern nc foxatl xxunk\n",
       "y: CategoryList\n",
       "not_informative,informative,informative,informative,informative\n",
       "Path: \\notebooks\\MultimodalTweetsClassification, model=SequentialRNN(\n",
       "  (0): MultiBatchEncoder(\n",
       "    (module): AWD_LSTM(\n",
       "      (encoder): Embedding(5640, 400, padding_idx=1)\n",
       "      (encoder_dp): EmbeddingDropout(\n",
       "        (emb): Embedding(5640, 400, padding_idx=1)\n",
       "      )\n",
       "      (rnns): ModuleList(\n",
       "        (0): WeightDropout(\n",
       "          (module): LSTM(400, 1152, batch_first=True)\n",
       "        )\n",
       "        (1): WeightDropout(\n",
       "          (module): LSTM(1152, 1152, batch_first=True)\n",
       "        )\n",
       "        (2): WeightDropout(\n",
       "          (module): LSTM(1152, 400, batch_first=True)\n",
       "        )\n",
       "      )\n",
       "      (input_dp): RNNDropout()\n",
       "      (hidden_dps): ModuleList(\n",
       "        (0): RNNDropout()\n",
       "        (1): RNNDropout()\n",
       "        (2): RNNDropout()\n",
       "      )\n",
       "    )\n",
       "  )\n",
       "  (1): PoolingLinearClassifier(\n",
       "    (layers): Sequential(\n",
       "      (0): BatchNorm1d(1200, eps=1e-05, momentum=0.1, affine=True, track_running_stats=True)\n",
       "      (1): Dropout(p=0.2, inplace=False)\n",
       "      (2): Linear(in_features=1200, out_features=50, bias=True)\n",
       "      (3): ReLU(inplace=True)\n",
       "      (4): BatchNorm1d(50, eps=1e-05, momentum=0.1, affine=True, track_running_stats=True)\n",
       "      (5): Dropout(p=0.1, inplace=False)\n",
       "      (6): Linear(in_features=50, out_features=2, bias=True)\n",
       "    )\n",
       "  )\n",
       "), opt_func=functools.partial(<class 'torch.optim.adam.Adam'>, betas=(0.9, 0.99)), loss_func=FlattenedLoss of CrossEntropyLoss(), metrics=[<function accuracy at 0x000002CF4D7F0378>, Precision(average='macro', pos_label=1, eps=1e-09), Precision(average='weighted', pos_label=1, eps=1e-09), Recall(average='macro', pos_label=1, eps=1e-09), Recall(average='weighted', pos_label=1, eps=1e-09), FBeta(average='macro', pos_label=1, eps=1e-09, beta=1.0), FBeta(average='weighted', pos_label=1, eps=1e-09, beta=1.0)], true_wd=True, bn_wd=True, wd=0.01, train_bn=True, path=WindowsPath('/notebooks/MultimodalTweetsClassification'), model_dir='models', callback_fns=[functools.partial(<class 'fastai.basic_train.Recorder'>, add_time=True, silent=False), <class 'fastai.train.ShowGraph'>, functools.partial(<class 'fastai.callbacks.tracker.EarlyStoppingCallback'>, monitor='valid_loss', min_delta=0.01, patience=3), functools.partial(<class 'fastai.callbacks.tracker.ReduceLROnPlateauCallback'>, monitor='valid_loss', mode='auto', patience=0, factor=0.2, min_delta=0, min_lr=1e-06)], callbacks=[RNNTrainer\n",
       "learn: RNNLearner(data=TextClasDataBunch;\n",
       "\n",
       "Train: LabelList (13607 items)\n",
       "x: TextList\n",
       "xxbos pls share were xxunk wildfire response recovery info here,xxbos california wildfires destroy more than structures kakenews,xxbos california wildfires destroy more than structures kakenews,xxbos california wildfires destroy more than structures kakenews,xxbos photos of california destructive wildfires via\n",
       "y: CategoryList\n",
       "informative,informative,informative,informative,informative\n",
       "Path: \\notebooks\\MultimodalTweetsClassification;\n",
       "\n",
       "Valid: LabelList (2237 items)\n",
       "x: TextList\n",
       "xxbos iran earthquake damage put at over bn pounds international,xxbos we ve lost track of how many xxunk teams have helped so proud of our church harvey,xxbos the gym above xxunk got destroyed the xxunk wall got blown out hurricanemaria,xxbos famous xxunk xxunk xxunk for xxunk in florida keys during irma,xxbos californias xxunk fire in xxunk captured in pictures and videos xxunk\n",
       "y: CategoryList\n",
       "informative,informative,informative,informative,informative\n",
       "Path: \\notebooks\\MultimodalTweetsClassification;\n",
       "\n",
       "Test: LabelList (2237 items)\n",
       "x: TextList\n",
       "xxbos xxbos xxunk xxunk mora now in nd at xxunk xxunk xxunk he xxunk xxunk xxunk,xxbos xxbos on our way to xxunk restoration to help organize donations for hurricaneharvey xxunk,xxbos xxbos hurricane maria batters puerto rico as cat monitoring the track as it nears the xxunk us next week xxunk,xxbos xxbos xxunk top donating la xxunk download sales to hurricane harvey relief via xxunk xxunk,xxbos xxbos am maria update holding steady as strong tropical storm offshore of eastern nc foxatl xxunk\n",
       "y: CategoryList\n",
       "not_informative,informative,informative,informative,informative\n",
       "Path: \\notebooks\\MultimodalTweetsClassification, model=SequentialRNN(\n",
       "  (0): MultiBatchEncoder(\n",
       "    (module): AWD_LSTM(\n",
       "      (encoder): Embedding(5640, 400, padding_idx=1)\n",
       "      (encoder_dp): EmbeddingDropout(\n",
       "        (emb): Embedding(5640, 400, padding_idx=1)\n",
       "      )\n",
       "      (rnns): ModuleList(\n",
       "        (0): WeightDropout(\n",
       "          (module): LSTM(400, 1152, batch_first=True)\n",
       "        )\n",
       "        (1): WeightDropout(\n",
       "          (module): LSTM(1152, 1152, batch_first=True)\n",
       "        )\n",
       "        (2): WeightDropout(\n",
       "          (module): LSTM(1152, 400, batch_first=True)\n",
       "        )\n",
       "      )\n",
       "      (input_dp): RNNDropout()\n",
       "      (hidden_dps): ModuleList(\n",
       "        (0): RNNDropout()\n",
       "        (1): RNNDropout()\n",
       "        (2): RNNDropout()\n",
       "      )\n",
       "    )\n",
       "  )\n",
       "  (1): PoolingLinearClassifier(\n",
       "    (layers): Sequential(\n",
       "      (0): BatchNorm1d(1200, eps=1e-05, momentum=0.1, affine=True, track_running_stats=True)\n",
       "      (1): Dropout(p=0.2, inplace=False)\n",
       "      (2): Linear(in_features=1200, out_features=50, bias=True)\n",
       "      (3): ReLU(inplace=True)\n",
       "      (4): BatchNorm1d(50, eps=1e-05, momentum=0.1, affine=True, track_running_stats=True)\n",
       "      (5): Dropout(p=0.1, inplace=False)\n",
       "      (6): Linear(in_features=50, out_features=2, bias=True)\n",
       "    )\n",
       "  )\n",
       "), opt_func=functools.partial(<class 'torch.optim.adam.Adam'>, betas=(0.9, 0.99)), loss_func=FlattenedLoss of CrossEntropyLoss(), metrics=[<function accuracy at 0x000002CF4D7F0378>, Precision(average='macro', pos_label=1, eps=1e-09), Precision(average='weighted', pos_label=1, eps=1e-09), Recall(average='macro', pos_label=1, eps=1e-09), Recall(average='weighted', pos_label=1, eps=1e-09), FBeta(average='macro', pos_label=1, eps=1e-09, beta=1.0), FBeta(average='weighted', pos_label=1, eps=1e-09, beta=1.0)], true_wd=True, bn_wd=True, wd=0.01, train_bn=True, path=WindowsPath('/notebooks/MultimodalTweetsClassification'), model_dir='models', callback_fns=[functools.partial(<class 'fastai.basic_train.Recorder'>, add_time=True, silent=False), <class 'fastai.train.ShowGraph'>, functools.partial(<class 'fastai.callbacks.tracker.EarlyStoppingCallback'>, monitor='valid_loss', min_delta=0.01, patience=3), functools.partial(<class 'fastai.callbacks.tracker.ReduceLROnPlateauCallback'>, monitor='valid_loss', mode='auto', patience=0, factor=0.2, min_delta=0, min_lr=1e-06)], callbacks=[...], layer_groups=[Sequential(\n",
       "  (0): Embedding(5640, 400, padding_idx=1)\n",
       "  (1): EmbeddingDropout(\n",
       "    (emb): Embedding(5640, 400, padding_idx=1)\n",
       "  )\n",
       "), Sequential(\n",
       "  (0): WeightDropout(\n",
       "    (module): LSTM(400, 1152, batch_first=True)\n",
       "  )\n",
       "  (1): RNNDropout()\n",
       "), Sequential(\n",
       "  (0): WeightDropout(\n",
       "    (module): LSTM(1152, 1152, batch_first=True)\n",
       "  )\n",
       "  (1): RNNDropout()\n",
       "), Sequential(\n",
       "  (0): WeightDropout(\n",
       "    (module): LSTM(1152, 400, batch_first=True)\n",
       "  )\n",
       "  (1): RNNDropout()\n",
       "), Sequential(\n",
       "  (0): PoolingLinearClassifier(\n",
       "    (layers): Sequential(\n",
       "      (0): BatchNorm1d(1200, eps=1e-05, momentum=0.1, affine=True, track_running_stats=True)\n",
       "      (1): Dropout(p=0.2, inplace=False)\n",
       "      (2): Linear(in_features=1200, out_features=50, bias=True)\n",
       "      (3): ReLU(inplace=True)\n",
       "      (4): BatchNorm1d(50, eps=1e-05, momentum=0.1, affine=True, track_running_stats=True)\n",
       "      (5): Dropout(p=0.1, inplace=False)\n",
       "      (6): Linear(in_features=50, out_features=2, bias=True)\n",
       "    )\n",
       "  )\n",
       ")], add_time=True, silent=False)\n",
       "alpha: 2.0\n",
       "beta: 1.0], layer_groups=[Sequential(\n",
       "  (0): Embedding(5640, 400, padding_idx=1)\n",
       "  (1): EmbeddingDropout(\n",
       "    (emb): Embedding(5640, 400, padding_idx=1)\n",
       "  )\n",
       "), Sequential(\n",
       "  (0): WeightDropout(\n",
       "    (module): LSTM(400, 1152, batch_first=True)\n",
       "  )\n",
       "  (1): RNNDropout()\n",
       "), Sequential(\n",
       "  (0): WeightDropout(\n",
       "    (module): LSTM(1152, 1152, batch_first=True)\n",
       "  )\n",
       "  (1): RNNDropout()\n",
       "), Sequential(\n",
       "  (0): WeightDropout(\n",
       "    (module): LSTM(1152, 400, batch_first=True)\n",
       "  )\n",
       "  (1): RNNDropout()\n",
       "), Sequential(\n",
       "  (0): PoolingLinearClassifier(\n",
       "    (layers): Sequential(\n",
       "      (0): BatchNorm1d(1200, eps=1e-05, momentum=0.1, affine=True, track_running_stats=True)\n",
       "      (1): Dropout(p=0.2, inplace=False)\n",
       "      (2): Linear(in_features=1200, out_features=50, bias=True)\n",
       "      (3): ReLU(inplace=True)\n",
       "      (4): BatchNorm1d(50, eps=1e-05, momentum=0.1, affine=True, track_running_stats=True)\n",
       "      (5): Dropout(p=0.1, inplace=False)\n",
       "      (6): Linear(in_features=50, out_features=2, bias=True)\n",
       "    )\n",
       "  )\n",
       ")], add_time=True, silent=False)"
      ]
     },
     "execution_count": 27,
     "metadata": {},
     "output_type": "execute_result"
    }
   ],
   "source": [
    "# laoding encoder for classification\n",
    "learn_clas.load_encoder('fine_tuned_enc_info')"
   ]
  },
  {
   "cell_type": "code",
   "execution_count": null,
   "metadata": {},
   "outputs": [
    {
     "data": {
      "text/html": [
       "\n",
       "<style>\n",
       "    /* Turns off some styling */\n",
       "    progress {\n",
       "        /* gets rid of default border in Firefox and Opera. */\n",
       "        border: none;\n",
       "        /* Needs to be in here for Safari polyfill so background images work as expected. */\n",
       "        background-size: auto;\n",
       "    }\n",
       "    progress:not([value]), progress:not([value])::-webkit-progress-bar {\n",
       "        background: repeating-linear-gradient(45deg, #7e7e7e, #7e7e7e 10px, #5c5c5c 10px, #5c5c5c 20px);\n",
       "    }\n",
       "    .progress-bar-interrupted, .progress-bar-interrupted::-webkit-progress-bar {\n",
       "        background: #F44336;\n",
       "    }\n",
       "</style>\n"
      ],
      "text/plain": [
       "<IPython.core.display.HTML object>"
      ]
     },
     "metadata": {},
     "output_type": "display_data"
    },
    {
     "data": {
      "text/html": [
       "\n",
       "    <div>\n",
       "      <progress value='0' class='' max='1' style='width:300px; height:20px; vertical-align: middle;'></progress>\n",
       "      0.00% [0/1 00:00&lt;?]\n",
       "    </div>\n",
       "    \n",
       "<table border=\"1\" class=\"dataframe\">\n",
       "  <thead>\n",
       "    <tr style=\"text-align: left;\">\n",
       "      <th>epoch</th>\n",
       "      <th>train_loss</th>\n",
       "      <th>valid_loss</th>\n",
       "      <th>accuracy</th>\n",
       "      <th>precision</th>\n",
       "      <th>precision</th>\n",
       "      <th>recall</th>\n",
       "      <th>recall</th>\n",
       "      <th>f_beta</th>\n",
       "      <th>f_beta</th>\n",
       "      <th>time</th>\n",
       "    </tr>\n",
       "  </thead>\n",
       "  <tbody>\n",
       "  </tbody>\n",
       "</table><p>\n",
       "\n",
       "    <div>\n",
       "      <progress value='93' class='' max='212' style='width:300px; height:20px; vertical-align: middle;'></progress>\n",
       "      43.87% [93/212 03:13&lt;04:07 2.2201]\n",
       "    </div>\n",
       "    "
      ],
      "text/plain": [
       "<IPython.core.display.HTML object>"
      ]
     },
     "metadata": {},
     "output_type": "display_data"
    },
    {
     "name": "stdout",
     "output_type": "stream",
     "text": [
      "LR Finder is complete, type {learner_name}.recorder.plot() to see the graph.\n"
     ]
    }
   ],
   "source": [
    "# training model using discriminative fine-tunnig and gradual unfreezing\n",
    "learn_clas.lr_find()"
   ]
  },
  {
   "cell_type": "code",
   "execution_count": 29,
   "metadata": {},
   "outputs": [
    {
     "data": {
      "image/png": "[encoded data removed]",
      "text/plain": [
       "<Figure size 640x480 with 1 Axes>"
      ]
     },
     "metadata": {},
     "output_type": "display_data"
    }
   ],
   "source": [
    "learn_clas.recorder.plot()"
   ]
  },
  {
   "cell_type": "code",
   "execution_count": 30,
   "metadata": {},
   "outputs": [
    {
     "data": {
      "text/html": [
       "\n",
       "<style>\n",
       "    /* Turns off some styling */\n",
       "    progress {\n",
       "        /* gets rid of default border in Firefox and Opera. */\n",
       "        border: none;\n",
       "        /* Needs to be in here for Safari polyfill so background images work as expected. */\n",
       "        background-size: auto;\n",
       "    }\n",
       "    progress:not([value]), progress:not([value])::-webkit-progress-bar {\n",
       "        background: repeating-linear-gradient(45deg, #7e7e7e, #7e7e7e 10px, #5c5c5c 10px, #5c5c5c 20px);\n",
       "    }\n",
       "    .progress-bar-interrupted, .progress-bar-interrupted::-webkit-progress-bar {\n",
       "        background: #F44336;\n",
       "    }\n",
       "</style>\n"
      ],
      "text/plain": [
       "<IPython.core.display.HTML object>"
      ]
     },
     "metadata": {},
     "output_type": "display_data"
    },
    {
     "data": {
      "text/html": [
       "<table border=\"1\" class=\"dataframe\">\n",
       "  <thead>\n",
       "    <tr style=\"text-align: left;\">\n",
       "      <th>epoch</th>\n",
       "      <th>train_loss</th>\n",
       "      <th>valid_loss</th>\n",
       "      <th>accuracy</th>\n",
       "      <th>precision</th>\n",
       "      <th>precision</th>\n",
       "      <th>recall</th>\n",
       "      <th>recall</th>\n",
       "      <th>f_beta</th>\n",
       "      <th>f_beta</th>\n",
       "      <th>time</th>\n",
       "    </tr>\n",
       "  </thead>\n",
       "  <tbody>\n",
       "    <tr>\n",
       "      <td>0</td>\n",
       "      <td>0.457349</td>\n",
       "      <td>0.431983</td>\n",
       "      <td>0.801967</td>\n",
       "      <td>0.768182</td>\n",
       "      <td>0.792258</td>\n",
       "      <td>0.705359</td>\n",
       "      <td>0.801967</td>\n",
       "      <td>0.724539</td>\n",
       "      <td>0.788975</td>\n",
       "      <td>06:22</td>\n",
       "    </tr>\n",
       "    <tr>\n",
       "      <td>1</td>\n",
       "      <td>0.428878</td>\n",
       "      <td>0.422809</td>\n",
       "      <td>0.805096</td>\n",
       "      <td>0.769951</td>\n",
       "      <td>0.795780</td>\n",
       "      <td>0.714388</td>\n",
       "      <td>0.805096</td>\n",
       "      <td>0.732562</td>\n",
       "      <td>0.794014</td>\n",
       "      <td>06:16</td>\n",
       "    </tr>\n",
       "  </tbody>\n",
       "</table>"
      ],
      "text/plain": [
       "<IPython.core.display.HTML object>"
      ]
     },
     "metadata": {},
     "output_type": "display_data"
    },
    {
     "data": {
      "image/png": "[encoded data removed]",
      "text/plain": [
       "<Figure size 600x400 with 1 Axes>"
      ]
     },
     "metadata": {},
     "output_type": "display_data"
    }
   ],
   "source": [
    "# training the model's top layer's keeping keep other layer's in freezing mode, all the metrics shown here, have been\n",
    "# evaluted on validation set\n",
    "learn_clas.fit_one_cycle(2,5e-3,moms=(0.8,0.7),wd=1e-1)"
   ]
  },
  {
   "cell_type": "code",
   "execution_count": 31,
   "metadata": {},
   "outputs": [
    {
     "data": {
      "text/html": [
       "\n",
       "<style>\n",
       "    /* Turns off some styling */\n",
       "    progress {\n",
       "        /* gets rid of default border in Firefox and Opera. */\n",
       "        border: none;\n",
       "        /* Needs to be in here for Safari polyfill so background images work as expected. */\n",
       "        background-size: auto;\n",
       "    }\n",
       "    progress:not([value]), progress:not([value])::-webkit-progress-bar {\n",
       "        background: repeating-linear-gradient(45deg, #7e7e7e, #7e7e7e 10px, #5c5c5c 10px, #5c5c5c 20px);\n",
       "    }\n",
       "    .progress-bar-interrupted, .progress-bar-interrupted::-webkit-progress-bar {\n",
       "        background: #F44336;\n",
       "    }\n",
       "</style>\n"
      ],
      "text/plain": [
       "<IPython.core.display.HTML object>"
      ]
     },
     "metadata": {},
     "output_type": "display_data"
    },
    {
     "data": {
      "text/html": [
       "<table border=\"1\" class=\"dataframe\">\n",
       "  <thead>\n",
       "    <tr style=\"text-align: left;\">\n",
       "      <th>epoch</th>\n",
       "      <th>train_loss</th>\n",
       "      <th>valid_loss</th>\n",
       "      <th>accuracy</th>\n",
       "      <th>precision</th>\n",
       "      <th>precision</th>\n",
       "      <th>recall</th>\n",
       "      <th>recall</th>\n",
       "      <th>f_beta</th>\n",
       "      <th>f_beta</th>\n",
       "      <th>time</th>\n",
       "    </tr>\n",
       "  </thead>\n",
       "  <tbody>\n",
       "    <tr>\n",
       "      <td>0</td>\n",
       "      <td>0.435179</td>\n",
       "      <td>0.435543</td>\n",
       "      <td>0.811355</td>\n",
       "      <td>0.773750</td>\n",
       "      <td>0.803324</td>\n",
       "      <td>0.732935</td>\n",
       "      <td>0.811354</td>\n",
       "      <td>0.748097</td>\n",
       "      <td>0.803793</td>\n",
       "      <td>06:30</td>\n",
       "    </tr>\n",
       "    <tr>\n",
       "      <td>1</td>\n",
       "      <td>0.406951</td>\n",
       "      <td>0.412872</td>\n",
       "      <td>0.809119</td>\n",
       "      <td>0.781285</td>\n",
       "      <td>0.800894</td>\n",
       "      <td>0.712281</td>\n",
       "      <td>0.809119</td>\n",
       "      <td>0.733075</td>\n",
       "      <td>0.795936</td>\n",
       "      <td>06:38</td>\n",
       "    </tr>\n",
       "    <tr>\n",
       "      <td>2</td>\n",
       "      <td>0.349149</td>\n",
       "      <td>0.418253</td>\n",
       "      <td>0.816272</td>\n",
       "      <td>0.788675</td>\n",
       "      <td>0.808747</td>\n",
       "      <td>0.726550</td>\n",
       "      <td>0.816272</td>\n",
       "      <td>0.746761</td>\n",
       "      <td>0.805300</td>\n",
       "      <td>06:24</td>\n",
       "    </tr>\n",
       "  </tbody>\n",
       "</table>"
      ],
      "text/plain": [
       "<IPython.core.display.HTML object>"
      ]
     },
     "metadata": {},
     "output_type": "display_data"
    },
    {
     "data": {
      "image/png": "[encoded data removed]",
      "text/plain": [
       "<Figure size 600x400 with 1 Axes>"
      ]
     },
     "metadata": {},
     "output_type": "display_data"
    }
   ],
   "source": [
    "learn_clas.freeze_to(-2)\n",
    "learn_clas.fit_one_cycle(3, slice(1e-2/(2.6**4),1e-2), moms=(0.8,0.7),wd=1e-1)"
   ]
  },
  {
   "cell_type": "code",
   "execution_count": 32,
   "metadata": {},
   "outputs": [],
   "source": [
    "# learn_clas.freeze_to(-3)\n",
    "# learn_clas.fit_one_cycle(1, slice(5e-3/(2.6**4),5e-3), moms=(0.8,0.7))"
   ]
  },
  {
   "cell_type": "code",
   "execution_count": 33,
   "metadata": {},
   "outputs": [
    {
     "data": {
      "text/html": [
       "\n",
       "<style>\n",
       "    /* Turns off some styling */\n",
       "    progress {\n",
       "        /* gets rid of default border in Firefox and Opera. */\n",
       "        border: none;\n",
       "        /* Needs to be in here for Safari polyfill so background images work as expected. */\n",
       "        background-size: auto;\n",
       "    }\n",
       "    progress:not([value]), progress:not([value])::-webkit-progress-bar {\n",
       "        background: repeating-linear-gradient(45deg, #7e7e7e, #7e7e7e 10px, #5c5c5c 10px, #5c5c5c 20px);\n",
       "    }\n",
       "    .progress-bar-interrupted, .progress-bar-interrupted::-webkit-progress-bar {\n",
       "        background: #F44336;\n",
       "    }\n",
       "</style>\n"
      ],
      "text/plain": [
       "<IPython.core.display.HTML object>"
      ]
     },
     "metadata": {},
     "output_type": "display_data"
    },
    {
     "data": {
      "text/html": [
       "\n",
       "    <div>\n",
       "      <progress value='4' class='' max='10' style='width:300px; height:20px; vertical-align: middle;'></progress>\n",
       "      40.00% [4/10 28:35&lt;42:53]\n",
       "    </div>\n",
       "    \n",
       "<table border=\"1\" class=\"dataframe\">\n",
       "  <thead>\n",
       "    <tr style=\"text-align: left;\">\n",
       "      <th>epoch</th>\n",
       "      <th>train_loss</th>\n",
       "      <th>valid_loss</th>\n",
       "      <th>accuracy</th>\n",
       "      <th>precision</th>\n",
       "      <th>precision</th>\n",
       "      <th>recall</th>\n",
       "      <th>recall</th>\n",
       "      <th>f_beta</th>\n",
       "      <th>f_beta</th>\n",
       "      <th>time</th>\n",
       "    </tr>\n",
       "  </thead>\n",
       "  <tbody>\n",
       "    <tr>\n",
       "      <td>0</td>\n",
       "      <td>0.324007</td>\n",
       "      <td>0.416786</td>\n",
       "      <td>0.816272</td>\n",
       "      <td>0.783175</td>\n",
       "      <td>0.808518</td>\n",
       "      <td>0.734877</td>\n",
       "      <td>0.816272</td>\n",
       "      <td>0.752123</td>\n",
       "      <td>0.807760</td>\n",
       "      <td>06:52</td>\n",
       "    </tr>\n",
       "    <tr>\n",
       "      <td>1</td>\n",
       "      <td>0.301972</td>\n",
       "      <td>0.435236</td>\n",
       "      <td>0.813590</td>\n",
       "      <td>0.779433</td>\n",
       "      <td>0.805506</td>\n",
       "      <td>0.731057</td>\n",
       "      <td>0.813590</td>\n",
       "      <td>0.748195</td>\n",
       "      <td>0.804813</td>\n",
       "      <td>07:06</td>\n",
       "    </tr>\n",
       "    <tr>\n",
       "      <td>2</td>\n",
       "      <td>0.293728</td>\n",
       "      <td>0.453578</td>\n",
       "      <td>0.810907</td>\n",
       "      <td>0.776212</td>\n",
       "      <td>0.802453</td>\n",
       "      <td>0.726257</td>\n",
       "      <td>0.810907</td>\n",
       "      <td>0.743623</td>\n",
       "      <td>0.801572</td>\n",
       "      <td>07:04</td>\n",
       "    </tr>\n",
       "    <tr>\n",
       "      <td>3</td>\n",
       "      <td>0.272458</td>\n",
       "      <td>0.464632</td>\n",
       "      <td>0.807778</td>\n",
       "      <td>0.766963</td>\n",
       "      <td>0.799902</td>\n",
       "      <td>0.732413</td>\n",
       "      <td>0.807778</td>\n",
       "      <td>0.745738</td>\n",
       "      <td>0.801153</td>\n",
       "      <td>07:32</td>\n",
       "    </tr>\n",
       "  </tbody>\n",
       "</table><p>\n",
       "\n",
       "    <div>\n",
       "      <progress value='35' class='' max='35' style='width:300px; height:20px; vertical-align: middle;'></progress>\n",
       "      100.00% [35/35 00:50&lt;00:00]\n",
       "    </div>\n",
       "    "
      ],
      "text/plain": [
       "<IPython.core.display.HTML object>"
      ]
     },
     "metadata": {},
     "output_type": "display_data"
    },
    {
     "data": {
      "image/png": "[encoded data removed]",
      "text/plain": [
       "<Figure size 600x400 with 1 Axes>"
      ]
     },
     "metadata": {},
     "output_type": "display_data"
    },
    {
     "name": "stdout",
     "output_type": "stream",
     "text": [
      "Better model found at epoch 0 with accuracy value: 0.8162717819213867.\n",
      "Epoch 1: reducing lr to 0.000152\n",
      "Epoch 2: reducing lr to 0.0002\n",
      "Epoch 3: reducing lr to 0.00019009692640269474\n",
      "Epoch 4: early stopping\n",
      "Epoch 4: reducing lr to 0.00016234913078995263\n"
     ]
    },
    {
     "data": {
      "image/png": "[encoded data removed]",
      "text/plain": [
       "<Figure size 600x400 with 1 Axes>"
      ]
     },
     "metadata": {},
     "output_type": "display_data"
    }
   ],
   "source": [
    "# training all layer's of the model and saving the best one\n",
    "learn_clas.unfreeze()\n",
    "learn_clas.fit_one_cycle(10, slice(1e-3/(2.6**4),1e-3), moms=(0.8,0.7),\n",
    "                    callbacks=[SaveModelCallback(learn_clas,every='improvement', monitor='accuracy', name='best')])"
   ]
  },
  {
   "cell_type": "code",
   "execution_count": 34,
   "metadata": {},
   "outputs": [
    {
     "data": {
      "text/html": [
       "\n",
       "<style>\n",
       "    /* Turns off some styling */\n",
       "    progress {\n",
       "        /* gets rid of default border in Firefox and Opera. */\n",
       "        border: none;\n",
       "        /* Needs to be in here for Safari polyfill so background images work as expected. */\n",
       "        background-size: auto;\n",
       "    }\n",
       "    progress:not([value]), progress:not([value])::-webkit-progress-bar {\n",
       "        background: repeating-linear-gradient(45deg, #7e7e7e, #7e7e7e 10px, #5c5c5c 10px, #5c5c5c 20px);\n",
       "    }\n",
       "    .progress-bar-interrupted, .progress-bar-interrupted::-webkit-progress-bar {\n",
       "        background: #F44336;\n",
       "    }\n",
       "</style>\n"
      ],
      "text/plain": [
       "<IPython.core.display.HTML object>"
      ]
     },
     "metadata": {},
     "output_type": "display_data"
    },
    {
     "data": {
      "text/html": [],
      "text/plain": [
       "<IPython.core.display.HTML object>"
      ]
     },
     "metadata": {},
     "output_type": "display_data"
    }
   ],
   "source": [
    "# making interpretation on dev split\n",
    "interp = ClassificationInterpretation.from_learner(learn_clas)"
   ]
  },
  {
   "cell_type": "code",
   "execution_count": 35,
   "metadata": {},
   "outputs": [
    {
     "data": {
      "image/png": "[encoded data removed]",
      "text/plain": [
       "<Figure size 300x300 with 1 Axes>"
      ]
     },
     "metadata": {},
     "output_type": "display_data"
    }
   ],
   "source": [
    "#plotting the confusion matrix\n",
    "interp.plot_confusion_matrix(figsize=(3,3), dpi=100)"
   ]
  },
  {
   "cell_type": "code",
   "execution_count": 36,
   "metadata": {},
   "outputs": [
    {
     "data": {
      "text/html": [
       "\n",
       "<style>\n",
       "    /* Turns off some styling */\n",
       "    progress {\n",
       "        /* gets rid of default border in Firefox and Opera. */\n",
       "        border: none;\n",
       "        /* Needs to be in here for Safari polyfill so background images work as expected. */\n",
       "        background-size: auto;\n",
       "    }\n",
       "    progress:not([value]), progress:not([value])::-webkit-progress-bar {\n",
       "        background: repeating-linear-gradient(45deg, #7e7e7e, #7e7e7e 10px, #5c5c5c 10px, #5c5c5c 20px);\n",
       "    }\n",
       "    .progress-bar-interrupted, .progress-bar-interrupted::-webkit-progress-bar {\n",
       "        background: #F44336;\n",
       "    }\n",
       "</style>\n"
      ],
      "text/plain": [
       "<IPython.core.display.HTML object>"
      ]
     },
     "metadata": {},
     "output_type": "display_data"
    },
    {
     "data": {
      "text/html": [],
      "text/plain": [
       "<IPython.core.display.HTML object>"
      ]
     },
     "metadata": {},
     "output_type": "display_data"
    }
   ],
   "source": [
    "#making predictions on validation set to use it in classification report\n",
    "preds,y,losses = learn_clas.get_preds(ds_type=DatasetType.Valid,with_loss=True)\n",
    "\n",
    "y_preds = preds.argmax(1)"
   ]
  },
  {
   "cell_type": "code",
   "execution_count": 37,
   "metadata": {},
   "outputs": [
    {
     "name": "stdout",
     "output_type": "stream",
     "text": [
      "                 precision    recall  f1-score   support\n",
      "\n",
      "    informative       0.84      0.92      0.88      1612\n",
      "non-informative       0.73      0.55      0.63       625\n",
      "\n",
      "       accuracy                           0.82      2237\n",
      "      macro avg       0.78      0.73      0.75      2237\n",
      "   weighted avg       0.81      0.82      0.81      2237\n",
      "\n"
     ]
    }
   ],
   "source": [
    "target_names = ['informative', 'non-informative']\n",
    "print(classification_report(y, y_preds, target_names=target_names))"
   ]
  },
  {
   "cell_type": "code",
   "execution_count": 38,
   "metadata": {},
   "outputs": [
    {
     "data": {
      "text/html": [
       "\n",
       "<style>\n",
       "    /* Turns off some styling */\n",
       "    progress {\n",
       "        /* gets rid of default border in Firefox and Opera. */\n",
       "        border: none;\n",
       "        /* Needs to be in here for Safari polyfill so background images work as expected. */\n",
       "        background-size: auto;\n",
       "    }\n",
       "    progress:not([value]), progress:not([value])::-webkit-progress-bar {\n",
       "        background: repeating-linear-gradient(45deg, #7e7e7e, #7e7e7e 10px, #5c5c5c 10px, #5c5c5c 20px);\n",
       "    }\n",
       "    .progress-bar-interrupted, .progress-bar-interrupted::-webkit-progress-bar {\n",
       "        background: #F44336;\n",
       "    }\n",
       "</style>\n"
      ],
      "text/plain": [
       "<IPython.core.display.HTML object>"
      ]
     },
     "metadata": {},
     "output_type": "display_data"
    },
    {
     "data": {
      "text/html": [],
      "text/plain": [
       "<IPython.core.display.HTML object>"
      ]
     },
     "metadata": {},
     "output_type": "display_data"
    },
    {
     "data": {
      "text/plain": [
       "[0.3920279,\n",
       " tensor(0.8239),\n",
       " tensor(0.7872),\n",
       " tensor(0.8180),\n",
       " tensor(0.7583),\n",
       " tensor(0.8239),\n",
       " tensor(0.7702),\n",
       " tensor(0.8192)]"
      ]
     },
     "execution_count": 38,
     "metadata": {},
     "output_type": "execute_result"
    }
   ],
   "source": [
    "learn_clas.validate(data_clas.test_dl,metrics=[accuracy,Precision(average='macro'),Precision(average='weighted'),\n",
    "                                                     Recall(average='macro'),Recall(average='weighted'),\n",
    "                                                    FBeta(average='macro',beta=1),FBeta(average='weighted',beta=1)])"
   ]
  },
  {
   "cell_type": "code",
   "execution_count": 39,
   "metadata": {},
   "outputs": [
    {
     "data": {
      "text/html": [
       "\n",
       "<style>\n",
       "    /* Turns off some styling */\n",
       "    progress {\n",
       "        /* gets rid of default border in Firefox and Opera. */\n",
       "        border: none;\n",
       "        /* Needs to be in here for Safari polyfill so background images work as expected. */\n",
       "        background-size: auto;\n",
       "    }\n",
       "    progress:not([value]), progress:not([value])::-webkit-progress-bar {\n",
       "        background: repeating-linear-gradient(45deg, #7e7e7e, #7e7e7e 10px, #5c5c5c 10px, #5c5c5c 20px);\n",
       "    }\n",
       "    .progress-bar-interrupted, .progress-bar-interrupted::-webkit-progress-bar {\n",
       "        background: #F44336;\n",
       "    }\n",
       "</style>\n"
      ],
      "text/plain": [
       "<IPython.core.display.HTML object>"
      ]
     },
     "metadata": {},
     "output_type": "display_data"
    },
    {
     "data": {
      "text/html": [],
      "text/plain": [
       "<IPython.core.display.HTML object>"
      ]
     },
     "metadata": {},
     "output_type": "display_data"
    }
   ],
   "source": [
    "#making predictions on test set to use it in classification report\n",
    "preds,y,losses = learn_clas.get_preds(ds_type=DatasetType.Test,with_loss=True)"
   ]
  },
  {
   "cell_type": "code",
   "execution_count": 40,
   "metadata": {},
   "outputs": [],
   "source": [
    "y_preds = preds.argmax(1)"
   ]
  },
  {
   "cell_type": "code",
   "execution_count": 41,
   "metadata": {},
   "outputs": [
    {
     "name": "stdout",
     "output_type": "stream",
     "text": [
      "                 precision    recall  f1-score   support\n",
      "\n",
      "    informative       0.86      0.91      0.88      1612\n",
      "non-informative       0.72      0.61      0.66       625\n",
      "\n",
      "       accuracy                           0.82      2237\n",
      "      macro avg       0.79      0.76      0.77      2237\n",
      "   weighted avg       0.82      0.82      0.82      2237\n",
      "\n"
     ]
    }
   ],
   "source": [
    "print(classification_report(y, y_preds, target_names=target_names))"
   ]
  },
  {
   "cell_type": "code",
   "execution_count": 42,
   "metadata": {},
   "outputs": [
    {
     "data": {
      "text/html": [
       "\n",
       "<style>\n",
       "    /* Turns off some styling */\n",
       "    progress {\n",
       "        /* gets rid of default border in Firefox and Opera. */\n",
       "        border: none;\n",
       "        /* Needs to be in here for Safari polyfill so background images work as expected. */\n",
       "        background-size: auto;\n",
       "    }\n",
       "    progress:not([value]), progress:not([value])::-webkit-progress-bar {\n",
       "        background: repeating-linear-gradient(45deg, #7e7e7e, #7e7e7e 10px, #5c5c5c 10px, #5c5c5c 20px);\n",
       "    }\n",
       "    .progress-bar-interrupted, .progress-bar-interrupted::-webkit-progress-bar {\n",
       "        background: #F44336;\n",
       "    }\n",
       "</style>\n"
      ],
      "text/plain": [
       "<IPython.core.display.HTML object>"
      ]
     },
     "metadata": {},
     "output_type": "display_data"
    },
    {
     "data": {
      "text/html": [],
      "text/plain": [
       "<IPython.core.display.HTML object>"
      ]
     },
     "metadata": {},
     "output_type": "display_data"
    },
    {
     "data": {
      "image/png": "[encoded data removed]",
      "text/plain": [
       "<Figure size 300x300 with 1 Axes>"
      ]
     },
     "metadata": {},
     "output_type": "display_data"
    }
   ],
   "source": [
    "# making interpretation on dev split\n",
    "interp = ClassificationInterpretation.from_learner(learn_clas,ds_type=DatasetType.Test)\n",
    "interp.plot_confusion_matrix(figsize=(3,3), dpi=100)"
   ]
  },
  {
   "cell_type": "code",
   "execution_count": 43,
   "metadata": {},
   "outputs": [],
   "source": [
    "learn_clas.save(\"Informative_text_only\")"
   ]
  }
 ],
 "metadata": {
  "kernelspec": {
   "display_name": "Python (venv)",
   "language": "python",
   "name": "venv"
  },
  "language_info": {
   "codemirror_mode": {
    "name": "ipython",
    "version": 3
   },
   "file_extension": ".py",
   "mimetype": "text/x-python",
   "name": "python",
   "nbconvert_exporter": "python",
   "pygments_lexer": "ipython3",
   "version": "3.7.0"
  }
 },
 "nbformat": 4,
 "nbformat_minor": 4
}
