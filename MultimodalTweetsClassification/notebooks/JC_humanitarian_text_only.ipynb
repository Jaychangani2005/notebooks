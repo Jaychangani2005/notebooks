{
 "cells": [
  {
   "cell_type": "markdown",
   "metadata": {},
   "source": [
    "# Building Unimodal Text Modal"
   ]
  },
  {
   "cell_type": "code",
   "execution_count": 67,
   "metadata": {},
   "outputs": [
    {
     "name": "stdout",
     "output_type": "stream",
     "text": [
      "e:\\\n"
     ]
    }
   ],
   "source": [
    "cd .."
   ]
  },
  {
   "cell_type": "code",
   "execution_count": 68,
   "metadata": {},
   "outputs": [],
   "source": [
    "#ensuring that any edits to libraries you make are reloaded here automatically\n",
    "#to ensuere charts or images displayed are shown in this notebook\n",
    "%reload_ext autoreload\n",
    "%autoreload 2\n",
    "%matplotlib inline "
   ]
  },
  {
   "cell_type": "code",
   "execution_count": 69,
   "metadata": {},
   "outputs": [],
   "source": [
    "#importing required modules\n",
    "from exp.Required_Modules_And_Packages import *\n",
    "from exp.Data_Reading_And_Preprocessing import *\n",
    "from exp.Required_Integration_Functionalities_For_Transformer_To_Fastai import *\n",
    "from exp.Required_Functionalities_To_Handal_Multimodal_Dataset import *\n",
    "from exp.Multimodal_Model_With_Intermediate_Or_EmbraceNet_Fusion import *"
   ]
  },
  {
   "cell_type": "code",
   "execution_count": 70,
   "metadata": {},
   "outputs": [],
   "source": [
    "path = Path('/notebooks/MultimodalTweetsClassification')\n",
    "# path.ls()"
   ]
  },
  {
   "cell_type": "code",
   "execution_count": 71,
   "metadata": {},
   "outputs": [],
   "source": [
    "path_img = path/'data_image'"
   ]
  },
  {
   "cell_type": "code",
   "execution_count": 72,
   "metadata": {},
   "outputs": [],
   "source": [
    "# Uncomment the code if dataset and labels are in .tar.gz and .zip format respectively\n",
    "\n",
    "# data = \"CrisisMMD_v2.tar.gz\"\n",
    "# agreed_label = \"crisismmd_datasplit_agreed_label.zip\"\n",
    "# untar_data_and_unzip_label(data,agreed_label)"
   ]
  },
  {
   "cell_type": "code",
   "execution_count": 73,
   "metadata": {},
   "outputs": [
    {
     "name": "stdout",
     "output_type": "stream",
     "text": [
      "reading data and preprocessing it.....\n",
      "done!!\n"
     ]
    }
   ],
   "source": [
    "#reading csv files and doing initial necessary processing\n",
    "data_human_text,test_data_human_text = get_dataframe(*get_tsv_data_files('humanitarian_task_tsv_files'),path)"
   ]
  },
  {
   "cell_type": "code",
   "execution_count": 74,
   "metadata": {},
   "outputs": [
    {
     "name": "stdout",
     "output_type": "stream",
     "text": [
      "shape of data: (15845, 10)\n",
      "\n",
      "train set: 13608\n",
      "valid set: 2237\n",
      "==================================================\n",
      "shape of test data: (2237, 9)\n",
      "\n"
     ]
    }
   ],
   "source": [
    "print(f\"shape of data: {data_human_text.shape}\\n\")\n",
    "print(f\"train set: {data_human_text['is_valid'].value_counts()[0]}\")\n",
    "print(f\"valid set: {data_human_text['is_valid'].value_counts()[1]}\")      \n",
    "print(\"=\"*50)\n",
    "print(f\"shape of test data: {test_data_human_text.shape}\\n\")"
   ]
  },
  {
   "cell_type": "code",
   "execution_count": 75,
   "metadata": {},
   "outputs": [
    {
     "data": {
      "text/html": [
       "<div>\n",
       "<style scoped>\n",
       "    .dataframe tbody tr th:only-of-type {\n",
       "        vertical-align: middle;\n",
       "    }\n",
       "\n",
       "    .dataframe tbody tr th {\n",
       "        vertical-align: top;\n",
       "    }\n",
       "\n",
       "    .dataframe thead th {\n",
       "        text-align: right;\n",
       "    }\n",
       "</style>\n",
       "<table border=\"1\" class=\"dataframe\">\n",
       "  <thead>\n",
       "    <tr style=\"text-align: right;\">\n",
       "      <th></th>\n",
       "      <th>event_name</th>\n",
       "      <th>tweet_id</th>\n",
       "      <th>image_id</th>\n",
       "      <th>tweet_text</th>\n",
       "      <th>image</th>\n",
       "      <th>label</th>\n",
       "      <th>label_text</th>\n",
       "      <th>label_image</th>\n",
       "      <th>label_text_image</th>\n",
       "      <th>is_valid</th>\n",
       "    </tr>\n",
       "  </thead>\n",
       "  <tbody>\n",
       "    <tr>\n",
       "      <th>0</th>\n",
       "      <td>california_wildfires</td>\n",
       "      <td>917791291823591425</td>\n",
       "      <td>917791291823591425_1</td>\n",
       "      <td>pls share were capturing wildfire response rec...</td>\n",
       "      <td>data_image/california_wildfires/10_10_2017/917...</td>\n",
       "      <td>not_humanitarian</td>\n",
       "      <td>other_relevant_information</td>\n",
       "      <td>not_humanitarian</td>\n",
       "      <td>Negative</td>\n",
       "      <td>False</td>\n",
       "    </tr>\n",
       "    <tr>\n",
       "      <th>1</th>\n",
       "      <td>california_wildfires</td>\n",
       "      <td>917791291823591425</td>\n",
       "      <td>917791291823591425_0</td>\n",
       "      <td>pls share were capturing wildfire response rec...</td>\n",
       "      <td>data_image/california_wildfires/10_10_2017/917...</td>\n",
       "      <td>other_relevant_information</td>\n",
       "      <td>other_relevant_information</td>\n",
       "      <td>infrastructure_and_utility_damage</td>\n",
       "      <td>Negative</td>\n",
       "      <td>False</td>\n",
       "    </tr>\n",
       "    <tr>\n",
       "      <th>2</th>\n",
       "      <td>california_wildfires</td>\n",
       "      <td>917793137925459968</td>\n",
       "      <td>917793137925459968_0</td>\n",
       "      <td>california wildfires destroy more than structu...</td>\n",
       "      <td>data_image/california_wildfires/10_10_2017/917...</td>\n",
       "      <td>infrastructure_and_utility_damage</td>\n",
       "      <td>infrastructure_and_utility_damage</td>\n",
       "      <td>infrastructure_and_utility_damage</td>\n",
       "      <td>Positive</td>\n",
       "      <td>False</td>\n",
       "    </tr>\n",
       "    <tr>\n",
       "      <th>3</th>\n",
       "      <td>california_wildfires</td>\n",
       "      <td>917793137925459968</td>\n",
       "      <td>917793137925459968_1</td>\n",
       "      <td>california wildfires destroy more than structu...</td>\n",
       "      <td>data_image/california_wildfires/10_10_2017/917...</td>\n",
       "      <td>infrastructure_and_utility_damage</td>\n",
       "      <td>infrastructure_and_utility_damage</td>\n",
       "      <td>infrastructure_and_utility_damage</td>\n",
       "      <td>Positive</td>\n",
       "      <td>False</td>\n",
       "    </tr>\n",
       "    <tr>\n",
       "      <th>4</th>\n",
       "      <td>california_wildfires</td>\n",
       "      <td>917793137925459968</td>\n",
       "      <td>917793137925459968_2</td>\n",
       "      <td>california wildfires destroy more than structu...</td>\n",
       "      <td>data_image/california_wildfires/10_10_2017/917...</td>\n",
       "      <td>infrastructure_and_utility_damage</td>\n",
       "      <td>infrastructure_and_utility_damage</td>\n",
       "      <td>infrastructure_and_utility_damage</td>\n",
       "      <td>Positive</td>\n",
       "      <td>False</td>\n",
       "    </tr>\n",
       "  </tbody>\n",
       "</table>\n",
       "</div>"
      ],
      "text/plain": [
       "             event_name            tweet_id              image_id  \\\n",
       "0  california_wildfires  917791291823591425  917791291823591425_1   \n",
       "1  california_wildfires  917791291823591425  917791291823591425_0   \n",
       "2  california_wildfires  917793137925459968  917793137925459968_0   \n",
       "3  california_wildfires  917793137925459968  917793137925459968_1   \n",
       "4  california_wildfires  917793137925459968  917793137925459968_2   \n",
       "\n",
       "                                          tweet_text  \\\n",
       "0  pls share were capturing wildfire response rec...   \n",
       "1  pls share were capturing wildfire response rec...   \n",
       "2  california wildfires destroy more than structu...   \n",
       "3  california wildfires destroy more than structu...   \n",
       "4  california wildfires destroy more than structu...   \n",
       "\n",
       "                                               image  \\\n",
       "0  data_image/california_wildfires/10_10_2017/917...   \n",
       "1  data_image/california_wildfires/10_10_2017/917...   \n",
       "2  data_image/california_wildfires/10_10_2017/917...   \n",
       "3  data_image/california_wildfires/10_10_2017/917...   \n",
       "4  data_image/california_wildfires/10_10_2017/917...   \n",
       "\n",
       "                               label                         label_text  \\\n",
       "0                   not_humanitarian         other_relevant_information   \n",
       "1         other_relevant_information         other_relevant_information   \n",
       "2  infrastructure_and_utility_damage  infrastructure_and_utility_damage   \n",
       "3  infrastructure_and_utility_damage  infrastructure_and_utility_damage   \n",
       "4  infrastructure_and_utility_damage  infrastructure_and_utility_damage   \n",
       "\n",
       "                         label_image label_text_image  is_valid  \n",
       "0                   not_humanitarian         Negative     False  \n",
       "1  infrastructure_and_utility_damage         Negative     False  \n",
       "2  infrastructure_and_utility_damage         Positive     False  \n",
       "3  infrastructure_and_utility_damage         Positive     False  \n",
       "4  infrastructure_and_utility_damage         Positive     False  "
      ]
     },
     "execution_count": 75,
     "metadata": {},
     "output_type": "execute_result"
    }
   ],
   "source": [
    "data_human_text.head()"
   ]
  },
  {
   "cell_type": "markdown",
   "metadata": {},
   "source": [
    "# Self"
   ]
  },
  {
   "cell_type": "markdown",
   "metadata": {},
   "source": []
  },
  {
   "cell_type": "code",
   "execution_count": null,
   "metadata": {},
   "outputs": [],
   "source": []
  },
  {
   "cell_type": "code",
   "execution_count": 76,
   "metadata": {},
   "outputs": [],
   "source": [
    "from transformers import BertTokenizer, BertForSequenceClassification\n",
    "from exp.Required_Integration_Functionalities_For_Transformer_To_Fastai import (\n",
    "    TransformersBaseTokenizer, TransformersVocab, CustomTransformerModel\n",
    ")\n",
    "from exp.Required_Modules_And_Packages import *\n",
    "from exp.Data_Reading_And_Preprocessing import *"
   ]
  },
  {
   "cell_type": "code",
   "execution_count": 77,
   "metadata": {},
   "outputs": [],
   "source": [
    "num_labels = len(data_human_text['label_text'].unique())\n",
    "model_path = r\"e:\\notebooks\\MultimodalTweetsClassification\\bert_local\"\n",
    "hf_tokenizer = BertTokenizer.from_pretrained(model_path)\n",
    "hf_model = BertForSequenceClassification.from_pretrained(model_path, num_labels=num_labels)"
   ]
  },
  {
   "cell_type": "code",
   "execution_count": 78,
   "metadata": {},
   "outputs": [],
   "source": [
    "fastai_tokenizer = TransformersBaseTokenizer(hf_tokenizer)\n",
    "fastai_vocab = TransformersVocab(hf_tokenizer)"
   ]
  },
  {
   "cell_type": "code",
   "execution_count": 80,
   "metadata": {},
   "outputs": [
    {
     "data": {
      "text/html": [
       "\n",
       "<style>\n",
       "    /* Turns off some styling */\n",
       "    progress {\n",
       "        /* gets rid of default border in Firefox and Opera. */\n",
       "        border: none;\n",
       "        /* Needs to be in here for Safari polyfill so background images work as expected. */\n",
       "        background-size: auto;\n",
       "    }\n",
       "    progress:not([value]), progress:not([value])::-webkit-progress-bar {\n",
       "        background: repeating-linear-gradient(45deg, #7e7e7e, #7e7e7e 10px, #5c5c5c 10px, #5c5c5c 20px);\n",
       "    }\n",
       "    .progress-bar-interrupted, .progress-bar-interrupted::-webkit-progress-bar {\n",
       "        background: #F44336;\n",
       "    }\n",
       "</style>\n"
      ],
      "text/plain": [
       "<IPython.core.display.HTML object>"
      ]
     },
     "metadata": {},
     "output_type": "display_data"
    },
    {
     "data": {
      "text/html": [],
      "text/plain": [
       "<IPython.core.display.HTML object>"
      ]
     },
     "metadata": {},
     "output_type": "display_data"
    },
    {
     "data": {
      "text/html": [
       "\n",
       "<style>\n",
       "    /* Turns off some styling */\n",
       "    progress {\n",
       "        /* gets rid of default border in Firefox and Opera. */\n",
       "        border: none;\n",
       "        /* Needs to be in here for Safari polyfill so background images work as expected. */\n",
       "        background-size: auto;\n",
       "    }\n",
       "    progress:not([value]), progress:not([value])::-webkit-progress-bar {\n",
       "        background: repeating-linear-gradient(45deg, #7e7e7e, #7e7e7e 10px, #5c5c5c 10px, #5c5c5c 20px);\n",
       "    }\n",
       "    .progress-bar-interrupted, .progress-bar-interrupted::-webkit-progress-bar {\n",
       "        background: #F44336;\n",
       "    }\n",
       "</style>\n"
      ],
      "text/plain": [
       "<IPython.core.display.HTML object>"
      ]
     },
     "metadata": {},
     "output_type": "display_data"
    },
    {
     "data": {
      "text/html": [],
      "text/plain": [
       "<IPython.core.display.HTML object>"
      ]
     },
     "metadata": {},
     "output_type": "display_data"
    },
    {
     "data": {
      "text/html": [
       "\n",
       "<style>\n",
       "    /* Turns off some styling */\n",
       "    progress {\n",
       "        /* gets rid of default border in Firefox and Opera. */\n",
       "        border: none;\n",
       "        /* Needs to be in here for Safari polyfill so background images work as expected. */\n",
       "        background-size: auto;\n",
       "    }\n",
       "    progress:not([value]), progress:not([value])::-webkit-progress-bar {\n",
       "        background: repeating-linear-gradient(45deg, #7e7e7e, #7e7e7e 10px, #5c5c5c 10px, #5c5c5c 20px);\n",
       "    }\n",
       "    .progress-bar-interrupted, .progress-bar-interrupted::-webkit-progress-bar {\n",
       "        background: #F44336;\n",
       "    }\n",
       "</style>\n"
      ],
      "text/plain": [
       "<IPython.core.display.HTML object>"
      ]
     },
     "metadata": {},
     "output_type": "display_data"
    },
    {
     "data": {
      "text/html": [],
      "text/plain": [
       "<IPython.core.display.HTML object>"
      ]
     },
     "metadata": {},
     "output_type": "display_data"
    },
    {
     "data": {
      "text/html": [
       "\n",
       "<style>\n",
       "    /* Turns off some styling */\n",
       "    progress {\n",
       "        /* gets rid of default border in Firefox and Opera. */\n",
       "        border: none;\n",
       "        /* Needs to be in here for Safari polyfill so background images work as expected. */\n",
       "        background-size: auto;\n",
       "    }\n",
       "    progress:not([value]), progress:not([value])::-webkit-progress-bar {\n",
       "        background: repeating-linear-gradient(45deg, #7e7e7e, #7e7e7e 10px, #5c5c5c 10px, #5c5c5c 20px);\n",
       "    }\n",
       "    .progress-bar-interrupted, .progress-bar-interrupted::-webkit-progress-bar {\n",
       "        background: #F44336;\n",
       "    }\n",
       "</style>\n"
      ],
      "text/plain": [
       "<IPython.core.display.HTML object>"
      ]
     },
     "metadata": {},
     "output_type": "display_data"
    },
    {
     "data": {
      "text/html": [],
      "text/plain": [
       "<IPython.core.display.HTML object>"
      ]
     },
     "metadata": {},
     "output_type": "display_data"
    },
    {
     "data": {
      "text/html": [
       "\n",
       "<style>\n",
       "    /* Turns off some styling */\n",
       "    progress {\n",
       "        /* gets rid of default border in Firefox and Opera. */\n",
       "        border: none;\n",
       "        /* Needs to be in here for Safari polyfill so background images work as expected. */\n",
       "        background-size: auto;\n",
       "    }\n",
       "    progress:not([value]), progress:not([value])::-webkit-progress-bar {\n",
       "        background: repeating-linear-gradient(45deg, #7e7e7e, #7e7e7e 10px, #5c5c5c 10px, #5c5c5c 20px);\n",
       "    }\n",
       "    .progress-bar-interrupted, .progress-bar-interrupted::-webkit-progress-bar {\n",
       "        background: #F44336;\n",
       "    }\n",
       "</style>\n"
      ],
      "text/plain": [
       "<IPython.core.display.HTML object>"
      ]
     },
     "metadata": {},
     "output_type": "display_data"
    },
    {
     "data": {
      "text/html": [],
      "text/plain": [
       "<IPython.core.display.HTML object>"
      ]
     },
     "metadata": {},
     "output_type": "display_data"
    }
   ],
   "source": [
    "from fastai.text import Tokenizer, TokenizeProcessor, NumericalizeProcessor\n",
    "\n",
    "fastai_tokenizer = Tokenizer(\n",
    "    tok_func=TransformersBaseTokenizer(hf_tokenizer, model_type='bert'),\n",
    "    pre_rules=[], post_rules=[], n_cpus=1\n",
    ")\n",
    "fastai_vocab = TransformersVocab(hf_tokenizer)\n",
    "\n",
    "processor = [TokenizeProcessor(tokenizer=fastai_tokenizer), NumericalizeProcessor(vocab=fastai_vocab)]\n",
    "\n",
    "\n",
    "\n",
    "def get_text_data(dataframe, path, pad_first=True, pad_idx=1, batch_size=64, processor=None, vocab=None, num_workers=0):\n",
    "    text_data = (TextList.from_df(dataframe, path, cols='tweet_text', processor=processor, vocab=vocab)\n",
    "                 .split_from_df(col='is_valid')\n",
    "                 .label_from_df(cols='label_text')\n",
    "                 .databunch(bs=batch_size, pad_first=pad_first, pad_idx=pad_idx, num_workers=num_workers))\n",
    "    return text_data\n",
    "\n",
    "# function to create databunch object of test text data using test split\n",
    "\n",
    "def get_test_text_data(dataframe, path, pad_first=True, pad_idx=1, batch_size=64, processor=None, vocab=None, num_workers=0):\n",
    "    test_text_data = (TextList.from_df(dataframe, path, cols='tweet_text', processor=processor, vocab=vocab)\n",
    "                      .split_none()\n",
    "                      .label_from_df(cols='label_text')\n",
    "                      .databunch(bs=batch_size, pad_first=pad_first, pad_idx=pad_idx, num_workers=num_workers))\n",
    "    return test_text_data\n",
    "\n",
    "\n",
    "data_clas = get_text_data(\n",
    "    data_human_text,\n",
    "    path,\n",
    "    processor=processor,\n",
    "    vocab=fastai_vocab\n",
    ")\n",
    "test_data_clas = get_test_text_data(\n",
    "    test_data_human_text,\n",
    "    path,\n",
    "    processor=processor,\n",
    "    vocab=fastai_vocab\n",
    ")\n",
    "data_clas.add_test(test_data_clas.train_ds)\n",
    "data_clas.test_ds.y = test_data_clas.train_ds.y"
   ]
  },
  {
   "cell_type": "code",
   "execution_count": 81,
   "metadata": {},
   "outputs": [],
   "source": [
    "pad_idx = hf_tokenizer.pad_token_id\n",
    "model = CustomTransformerModel(pad_idx, hf_model)"
   ]
  },
  {
   "cell_type": "code",
   "execution_count": 83,
   "metadata": {},
   "outputs": [],
   "source": [
    "from torch.nn import CrossEntropyLoss\n",
    "\n",
    "learn_clas = Learner(\n",
    "    data_clas,\n",
    "    model,\n",
    "    loss_func=CrossEntropyLoss(),\n",
    "    metrics=[accuracy, Precision1(average='macro'), Precision1(average='weighted')],\n",
    "    callback_fns=[ShowGraph]\n",
    ")"
   ]
  },
  {
   "cell_type": "code",
   "execution_count": 88,
   "metadata": {},
   "outputs": [
    {
     "data": {
      "text/html": [
       "\n",
       "<style>\n",
       "    /* Turns off some styling */\n",
       "    progress {\n",
       "        /* gets rid of default border in Firefox and Opera. */\n",
       "        border: none;\n",
       "        /* Needs to be in here for Safari polyfill so background images work as expected. */\n",
       "        background-size: auto;\n",
       "    }\n",
       "    progress:not([value]), progress:not([value])::-webkit-progress-bar {\n",
       "        background: repeating-linear-gradient(45deg, #7e7e7e, #7e7e7e 10px, #5c5c5c 10px, #5c5c5c 20px);\n",
       "    }\n",
       "    .progress-bar-interrupted, .progress-bar-interrupted::-webkit-progress-bar {\n",
       "        background: #F44336;\n",
       "    }\n",
       "</style>\n"
      ],
      "text/plain": [
       "<IPython.core.display.HTML object>"
      ]
     },
     "metadata": {},
     "output_type": "display_data"
    },
    {
     "data": {
      "text/html": [
       "<table border=\"1\" class=\"dataframe\">\n",
       "  <thead>\n",
       "    <tr style=\"text-align: left;\">\n",
       "      <th>epoch</th>\n",
       "      <th>train_loss</th>\n",
       "      <th>valid_loss</th>\n",
       "      <th>accuracy</th>\n",
       "      <th>precision1</th>\n",
       "      <th>precision1</th>\n",
       "      <th>time</th>\n",
       "    </tr>\n",
       "  </thead>\n",
       "  <tbody>\n",
       "    <tr>\n",
       "      <td>0</td>\n",
       "      <td>0.798240</td>\n",
       "      <td>0.818849</td>\n",
       "      <td>0.704515</td>\n",
       "      <td>0.498546</td>\n",
       "      <td>0.701346</td>\n",
       "      <td>27:37</td>\n",
       "    </tr>\n",
       "    <tr>\n",
       "      <td>1</td>\n",
       "      <td>0.656802</td>\n",
       "      <td>0.782017</td>\n",
       "      <td>0.710773</td>\n",
       "      <td>0.503679</td>\n",
       "      <td>0.712521</td>\n",
       "      <td>26:10</td>\n",
       "    </tr>\n",
       "    <tr>\n",
       "      <td>2</td>\n",
       "      <td>0.514015</td>\n",
       "      <td>0.795498</td>\n",
       "      <td>0.716138</td>\n",
       "      <td>0.504295</td>\n",
       "      <td>0.715411</td>\n",
       "      <td>27:44</td>\n",
       "    </tr>\n",
       "  </tbody>\n",
       "</table>"
      ],
      "text/plain": [
       "<IPython.core.display.HTML object>"
      ]
     },
     "metadata": {},
     "output_type": "display_data"
    },
    {
     "data": {
      "image/png": "[encoded data removed]",
      "text/plain": [
       "<Figure size 600x400 with 1 Axes>"
      ]
     },
     "metadata": {},
     "output_type": "display_data"
    }
   ],
   "source": [
    "learn_clas.fit_one_cycle(3, 2e-5)"
   ]
  },
  {
   "cell_type": "code",
   "execution_count": 89,
   "metadata": {},
   "outputs": [
    {
     "data": {
      "text/html": [
       "\n",
       "<style>\n",
       "    /* Turns off some styling */\n",
       "    progress {\n",
       "        /* gets rid of default border in Firefox and Opera. */\n",
       "        border: none;\n",
       "        /* Needs to be in here for Safari polyfill so background images work as expected. */\n",
       "        background-size: auto;\n",
       "    }\n",
       "    progress:not([value]), progress:not([value])::-webkit-progress-bar {\n",
       "        background: repeating-linear-gradient(45deg, #7e7e7e, #7e7e7e 10px, #5c5c5c 10px, #5c5c5c 20px);\n",
       "    }\n",
       "    .progress-bar-interrupted, .progress-bar-interrupted::-webkit-progress-bar {\n",
       "        background: #F44336;\n",
       "    }\n",
       "</style>\n"
      ],
      "text/plain": [
       "<IPython.core.display.HTML object>"
      ]
     },
     "metadata": {},
     "output_type": "display_data"
    },
    {
     "data": {
      "text/html": [],
      "text/plain": [
       "<IPython.core.display.HTML object>"
      ]
     },
     "metadata": {},
     "output_type": "display_data"
    },
    {
     "data": {
      "text/html": [
       "\n",
       "<style>\n",
       "    /* Turns off some styling */\n",
       "    progress {\n",
       "        /* gets rid of default border in Firefox and Opera. */\n",
       "        border: none;\n",
       "        /* Needs to be in here for Safari polyfill so background images work as expected. */\n",
       "        background-size: auto;\n",
       "    }\n",
       "    progress:not([value]), progress:not([value])::-webkit-progress-bar {\n",
       "        background: repeating-linear-gradient(45deg, #7e7e7e, #7e7e7e 10px, #5c5c5c 10px, #5c5c5c 20px);\n",
       "    }\n",
       "    .progress-bar-interrupted, .progress-bar-interrupted::-webkit-progress-bar {\n",
       "        background: #F44336;\n",
       "    }\n",
       "</style>\n"
      ],
      "text/plain": [
       "<IPython.core.display.HTML object>"
      ]
     },
     "metadata": {},
     "output_type": "display_data"
    },
    {
     "data": {
      "text/html": [],
      "text/plain": [
       "<IPython.core.display.HTML object>"
      ]
     },
     "metadata": {},
     "output_type": "display_data"
    },
    {
     "name": "stderr",
     "output_type": "stream",
     "text": [
      "e:\\notebooks\\MultimodalTweetsClassification\\venv\\lib\\site-packages\\sklearn\\metrics\\_classification.py:1272: UndefinedMetricWarning: Precision and F-score are ill-defined and being set to 0.0 in labels with no predicted samples. Use `zero_division` parameter to control this behavior.\n",
      "  _warn_prf(average, modifier, msg_start, len(result))\n"
     ]
    },
    {
     "name": "stdout",
     "output_type": "stream",
     "text": [
      "                                        precision    recall  f1-score   support\n",
      "\n",
      "                  affected_individuals       0.40      0.43      0.42        67\n",
      "     infrastructure_and_utility_damage       0.61      0.63      0.62       164\n",
      "                      not_humanitarian       0.79      0.81      0.80        70\n",
      "            other_relevant_information       0.00      0.00      0.00         6\n",
      "rescue_volunteering_or_donation_effort       0.78      0.64      0.70       625\n",
      "              missing_or_found_persons       0.70      0.75      0.72       844\n",
      "            vehicle_or_property_damage       0.75      0.85      0.79       453\n",
      "       injured_or_deceased_individuals       0.00      0.00      0.00         8\n",
      "\n",
      "                              accuracy                           0.72      2237\n",
      "                             macro avg       0.50      0.51      0.51      2237\n",
      "                          weighted avg       0.72      0.72      0.71      2237\n",
      "\n"
     ]
    },
    {
     "data": {
      "image/png": "[encoded data removed]",
      "text/plain": [
       "<Figure size 500x500 with 1 Axes>"
      ]
     },
     "metadata": {},
     "output_type": "display_data"
    }
   ],
   "source": [
    "interp = ClassificationInterpretation.from_learner(learn_clas)\n",
    "interp.plot_confusion_matrix(figsize=(5,5), dpi=100)\n",
    "\n",
    "preds, y, losses = learn_clas.get_preds(ds_type=DatasetType.Valid, with_loss=True)\n",
    "y_preds = preds.argmax(1)\n",
    "\n",
    "target_names = [\n",
    "    'affected_individuals',\n",
    "    'infrastructure_and_utility_damage',\n",
    "    'not_humanitarian',\n",
    "    'other_relevant_information',\n",
    "    'rescue_volunteering_or_donation_effort',\n",
    "    'missing_or_found_persons',\n",
    "    'vehicle_or_property_damage',\n",
    "    'injured_or_deceased_individuals'\n",
    "]\n",
    "print(classification_report(y, y_preds, target_names=target_names))"
   ]
  },
  {
   "cell_type": "code",
   "execution_count": null,
   "metadata": {},
   "outputs": [],
   "source": []
  },
  {
   "cell_type": "code",
   "execution_count": null,
   "metadata": {},
   "outputs": [],
   "source": []
  }
 ],
 "metadata": {
  "kernelspec": {
   "display_name": "venv",
   "language": "python",
   "name": "python3"
  },
  "language_info": {
   "codemirror_mode": {
    "name": "ipython",
    "version": 3
   },
   "file_extension": ".py",
   "mimetype": "text/x-python",
   "name": "python",
   "nbconvert_exporter": "python",
   "pygments_lexer": "ipython3",
   "version": "3.7.0"
  }
 },
 "nbformat": 4,
 "nbformat_minor": 4
}
